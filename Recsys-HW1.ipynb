{
 "cells": [
  {
   "cell_type": "code",
   "execution_count": 616,
   "metadata": {},
   "outputs": [],
   "source": [
    "import pandas as pd\n",
    "import numpy as np\n",
    "\n",
    "from tqdm import tqdm_notebook\n",
    "\n",
    "from sklearn.feature_extraction.text import TfidfTransformer, CountVectorizer, TfidfVectorizer\n",
    "from sklearn.linear_model import LinearRegression\n",
    "\n",
    "%matplotlib inline"
   ]
  },
  {
   "cell_type": "markdown",
   "metadata": {},
   "source": [
    "    Построить рекомендации (регрессия, предсказываем оценку) на фичах:\n",
    "\n",
    "    TF-IDF на тегах и жанрах\n",
    "    Средние оценки (+ median, variance, etc.) пользователя и фильма\n",
    "\n",
    "    Оценить RMSE на тестовой выборке\n"
   ]
  },
  {
   "cell_type": "code",
   "execution_count": 617,
   "metadata": {
    "collapsed": true
   },
   "outputs": [],
   "source": [
    "links = pd.read_csv('links.csv')\n",
    "movies = pd.read_csv('movies.csv')\n",
    "ratings = pd.read_csv('ratings.csv')\n",
    "tags = pd.read_csv('tags.csv')"
   ]
  },
  {
   "cell_type": "code",
   "execution_count": 618,
   "metadata": {},
   "outputs": [
    {
     "name": "stdout",
     "output_type": "stream",
     "text": [
      "<class 'pandas.core.frame.DataFrame'>\n",
      "RangeIndex: 100836 entries, 0 to 100835\n",
      "Data columns (total 2 columns):\n",
      "movieId    100836 non-null int64\n",
      "rating     100836 non-null float64\n",
      "dtypes: float64(1), int64(1)\n",
      "memory usage: 1.5 MB\n"
     ]
    }
   ],
   "source": [
    "ratings = ratings[['movieId', 'rating']]\n",
    "ratings.info()"
   ]
  },
  {
   "cell_type": "code",
   "execution_count": 619,
   "metadata": {},
   "outputs": [
    {
     "data": {
      "text/plain": [
       "9724"
      ]
     },
     "execution_count": 619,
     "metadata": {},
     "output_type": "execute_result"
    }
   ],
   "source": [
    "len(ratings['movieId'].unique())"
   ]
  },
  {
   "cell_type": "code",
   "execution_count": 620,
   "metadata": {},
   "outputs": [
    {
     "data": {
      "text/plain": [
       "9742"
      ]
     },
     "execution_count": 620,
     "metadata": {},
     "output_type": "execute_result"
    }
   ],
   "source": [
    "movies_with_tags = movies.join(tags.set_index('movieId'), on='movieId')\n",
    "len(movies_with_tags['movieId'].unique())"
   ]
  },
  {
   "cell_type": "code",
   "execution_count": 621,
   "metadata": {},
   "outputs": [
    {
     "data": {
      "text/html": [
       "<div>\n",
       "<style scoped>\n",
       "    .dataframe tbody tr th:only-of-type {\n",
       "        vertical-align: middle;\n",
       "    }\n",
       "\n",
       "    .dataframe tbody tr th {\n",
       "        vertical-align: top;\n",
       "    }\n",
       "\n",
       "    .dataframe thead th {\n",
       "        text-align: right;\n",
       "    }\n",
       "</style>\n",
       "<table border=\"1\" class=\"dataframe\">\n",
       "  <thead>\n",
       "    <tr style=\"text-align: right;\">\n",
       "      <th></th>\n",
       "      <th>movieId</th>\n",
       "      <th>title</th>\n",
       "      <th>genres</th>\n",
       "      <th>userId</th>\n",
       "      <th>tag</th>\n",
       "      <th>timestamp</th>\n",
       "    </tr>\n",
       "  </thead>\n",
       "  <tbody>\n",
       "    <tr>\n",
       "      <td>0</td>\n",
       "      <td>1</td>\n",
       "      <td>Toy Story (1995)</td>\n",
       "      <td>Adventure|Animation|Children|Comedy|Fantasy</td>\n",
       "      <td>336.0</td>\n",
       "      <td>pixar</td>\n",
       "      <td>1.139046e+09</td>\n",
       "    </tr>\n",
       "    <tr>\n",
       "      <td>0</td>\n",
       "      <td>1</td>\n",
       "      <td>Toy Story (1995)</td>\n",
       "      <td>Adventure|Animation|Children|Comedy|Fantasy</td>\n",
       "      <td>474.0</td>\n",
       "      <td>pixar</td>\n",
       "      <td>1.137207e+09</td>\n",
       "    </tr>\n",
       "    <tr>\n",
       "      <td>0</td>\n",
       "      <td>1</td>\n",
       "      <td>Toy Story (1995)</td>\n",
       "      <td>Adventure|Animation|Children|Comedy|Fantasy</td>\n",
       "      <td>567.0</td>\n",
       "      <td>fun</td>\n",
       "      <td>1.525286e+09</td>\n",
       "    </tr>\n",
       "    <tr>\n",
       "      <td>1</td>\n",
       "      <td>2</td>\n",
       "      <td>Jumanji (1995)</td>\n",
       "      <td>Adventure|Children|Fantasy</td>\n",
       "      <td>62.0</td>\n",
       "      <td>fantasy</td>\n",
       "      <td>1.528844e+09</td>\n",
       "    </tr>\n",
       "    <tr>\n",
       "      <td>1</td>\n",
       "      <td>2</td>\n",
       "      <td>Jumanji (1995)</td>\n",
       "      <td>Adventure|Children|Fantasy</td>\n",
       "      <td>62.0</td>\n",
       "      <td>magic board game</td>\n",
       "      <td>1.528844e+09</td>\n",
       "    </tr>\n",
       "  </tbody>\n",
       "</table>\n",
       "</div>"
      ],
      "text/plain": [
       "   movieId             title                                       genres  \\\n",
       "0        1  Toy Story (1995)  Adventure|Animation|Children|Comedy|Fantasy   \n",
       "0        1  Toy Story (1995)  Adventure|Animation|Children|Comedy|Fantasy   \n",
       "0        1  Toy Story (1995)  Adventure|Animation|Children|Comedy|Fantasy   \n",
       "1        2    Jumanji (1995)                   Adventure|Children|Fantasy   \n",
       "1        2    Jumanji (1995)                   Adventure|Children|Fantasy   \n",
       "\n",
       "   userId               tag     timestamp  \n",
       "0   336.0             pixar  1.139046e+09  \n",
       "0   474.0             pixar  1.137207e+09  \n",
       "0   567.0               fun  1.525286e+09  \n",
       "1    62.0           fantasy  1.528844e+09  \n",
       "1    62.0  magic board game  1.528844e+09  "
      ]
     },
     "execution_count": 621,
     "metadata": {},
     "output_type": "execute_result"
    }
   ],
   "source": [
    "movies_with_tags.head()"
   ]
  },
  {
   "cell_type": "code",
   "execution_count": 622,
   "metadata": {},
   "outputs": [
    {
     "data": {
      "text/html": [
       "<div>\n",
       "<style scoped>\n",
       "    .dataframe tbody tr th:only-of-type {\n",
       "        vertical-align: middle;\n",
       "    }\n",
       "\n",
       "    .dataframe tbody tr th {\n",
       "        vertical-align: top;\n",
       "    }\n",
       "\n",
       "    .dataframe thead th {\n",
       "        text-align: right;\n",
       "    }\n",
       "</style>\n",
       "<table border=\"1\" class=\"dataframe\">\n",
       "  <thead>\n",
       "    <tr style=\"text-align: right;\">\n",
       "      <th></th>\n",
       "      <th>movieId</th>\n",
       "      <th>title</th>\n",
       "      <th>genres</th>\n",
       "      <th>userId</th>\n",
       "      <th>tag</th>\n",
       "      <th>timestamp</th>\n",
       "    </tr>\n",
       "  </thead>\n",
       "  <tbody>\n",
       "    <tr>\n",
       "      <td>9732</td>\n",
       "      <td>193565</td>\n",
       "      <td>Gintama: The Movie (2010)</td>\n",
       "      <td>Action|Animation|Comedy|Sci-Fi</td>\n",
       "      <td>184.0</td>\n",
       "      <td>anime</td>\n",
       "      <td>1.537099e+09</td>\n",
       "    </tr>\n",
       "    <tr>\n",
       "      <td>9732</td>\n",
       "      <td>193565</td>\n",
       "      <td>Gintama: The Movie (2010)</td>\n",
       "      <td>Action|Animation|Comedy|Sci-Fi</td>\n",
       "      <td>184.0</td>\n",
       "      <td>comedy</td>\n",
       "      <td>1.537099e+09</td>\n",
       "    </tr>\n",
       "    <tr>\n",
       "      <td>9732</td>\n",
       "      <td>193565</td>\n",
       "      <td>Gintama: The Movie (2010)</td>\n",
       "      <td>Action|Animation|Comedy|Sci-Fi</td>\n",
       "      <td>184.0</td>\n",
       "      <td>gintama</td>\n",
       "      <td>1.537099e+09</td>\n",
       "    </tr>\n",
       "    <tr>\n",
       "      <td>9732</td>\n",
       "      <td>193565</td>\n",
       "      <td>Gintama: The Movie (2010)</td>\n",
       "      <td>Action|Animation|Comedy|Sci-Fi</td>\n",
       "      <td>184.0</td>\n",
       "      <td>remaster</td>\n",
       "      <td>1.537099e+09</td>\n",
       "    </tr>\n",
       "  </tbody>\n",
       "</table>\n",
       "</div>"
      ],
      "text/plain": [
       "      movieId                      title                          genres  \\\n",
       "9732   193565  Gintama: The Movie (2010)  Action|Animation|Comedy|Sci-Fi   \n",
       "9732   193565  Gintama: The Movie (2010)  Action|Animation|Comedy|Sci-Fi   \n",
       "9732   193565  Gintama: The Movie (2010)  Action|Animation|Comedy|Sci-Fi   \n",
       "9732   193565  Gintama: The Movie (2010)  Action|Animation|Comedy|Sci-Fi   \n",
       "\n",
       "      userId       tag     timestamp  \n",
       "9732   184.0     anime  1.537099e+09  \n",
       "9732   184.0    comedy  1.537099e+09  \n",
       "9732   184.0   gintama  1.537099e+09  \n",
       "9732   184.0  remaster  1.537099e+09  "
      ]
     },
     "execution_count": 622,
     "metadata": {},
     "output_type": "execute_result"
    }
   ],
   "source": [
    "movies_with_tags[movies_with_tags.title == 'Gintama: The Movie (2010)']"
   ]
  },
  {
   "cell_type": "code",
   "execution_count": 623,
   "metadata": {},
   "outputs": [
    {
     "data": {
      "text/html": [
       "<div>\n",
       "<style scoped>\n",
       "    .dataframe tbody tr th:only-of-type {\n",
       "        vertical-align: middle;\n",
       "    }\n",
       "\n",
       "    .dataframe tbody tr th {\n",
       "        vertical-align: top;\n",
       "    }\n",
       "\n",
       "    .dataframe thead th {\n",
       "        text-align: right;\n",
       "    }\n",
       "</style>\n",
       "<table border=\"1\" class=\"dataframe\">\n",
       "  <thead>\n",
       "    <tr style=\"text-align: right;\">\n",
       "      <th></th>\n",
       "      <th>movieId</th>\n",
       "      <th>rating</th>\n",
       "    </tr>\n",
       "  </thead>\n",
       "  <tbody>\n",
       "    <tr>\n",
       "      <td>0</td>\n",
       "      <td>1</td>\n",
       "      <td>4.0</td>\n",
       "    </tr>\n",
       "    <tr>\n",
       "      <td>1</td>\n",
       "      <td>3</td>\n",
       "      <td>4.0</td>\n",
       "    </tr>\n",
       "    <tr>\n",
       "      <td>2</td>\n",
       "      <td>6</td>\n",
       "      <td>4.0</td>\n",
       "    </tr>\n",
       "    <tr>\n",
       "      <td>3</td>\n",
       "      <td>47</td>\n",
       "      <td>5.0</td>\n",
       "    </tr>\n",
       "    <tr>\n",
       "      <td>4</td>\n",
       "      <td>50</td>\n",
       "      <td>5.0</td>\n",
       "    </tr>\n",
       "  </tbody>\n",
       "</table>\n",
       "</div>"
      ],
      "text/plain": [
       "   movieId  rating\n",
       "0        1     4.0\n",
       "1        3     4.0\n",
       "2        6     4.0\n",
       "3       47     5.0\n",
       "4       50     5.0"
      ]
     },
     "execution_count": 623,
     "metadata": {},
     "output_type": "execute_result"
    }
   ],
   "source": [
    "ratings.head()"
   ]
  },
  {
   "cell_type": "code",
   "execution_count": 624,
   "metadata": {},
   "outputs": [
    {
     "data": {
      "text/html": [
       "<div>\n",
       "<style scoped>\n",
       "    .dataframe tbody tr th:only-of-type {\n",
       "        vertical-align: middle;\n",
       "    }\n",
       "\n",
       "    .dataframe tbody tr th {\n",
       "        vertical-align: top;\n",
       "    }\n",
       "\n",
       "    .dataframe thead th {\n",
       "        text-align: right;\n",
       "    }\n",
       "</style>\n",
       "<table border=\"1\" class=\"dataframe\">\n",
       "  <thead>\n",
       "    <tr style=\"text-align: right;\">\n",
       "      <th></th>\n",
       "      <th>movieId</th>\n",
       "      <th>rating</th>\n",
       "    </tr>\n",
       "  </thead>\n",
       "  <tbody>\n",
       "    <tr>\n",
       "      <td>560</td>\n",
       "      <td>2</td>\n",
       "      <td>4.0</td>\n",
       "    </tr>\n",
       "    <tr>\n",
       "      <td>1026</td>\n",
       "      <td>2</td>\n",
       "      <td>4.0</td>\n",
       "    </tr>\n",
       "    <tr>\n",
       "      <td>1773</td>\n",
       "      <td>2</td>\n",
       "      <td>3.0</td>\n",
       "    </tr>\n",
       "    <tr>\n",
       "      <td>2275</td>\n",
       "      <td>2</td>\n",
       "      <td>3.0</td>\n",
       "    </tr>\n",
       "    <tr>\n",
       "      <td>2977</td>\n",
       "      <td>2</td>\n",
       "      <td>3.0</td>\n",
       "    </tr>\n",
       "    <tr>\n",
       "      <td>...</td>\n",
       "      <td>...</td>\n",
       "      <td>...</td>\n",
       "    </tr>\n",
       "    <tr>\n",
       "      <td>95102</td>\n",
       "      <td>2</td>\n",
       "      <td>4.0</td>\n",
       "    </tr>\n",
       "    <tr>\n",
       "      <td>95965</td>\n",
       "      <td>2</td>\n",
       "      <td>4.0</td>\n",
       "    </tr>\n",
       "    <tr>\n",
       "      <td>97044</td>\n",
       "      <td>2</td>\n",
       "      <td>5.0</td>\n",
       "    </tr>\n",
       "    <tr>\n",
       "      <td>97144</td>\n",
       "      <td>2</td>\n",
       "      <td>3.5</td>\n",
       "    </tr>\n",
       "    <tr>\n",
       "      <td>98667</td>\n",
       "      <td>2</td>\n",
       "      <td>2.0</td>\n",
       "    </tr>\n",
       "  </tbody>\n",
       "</table>\n",
       "<p>110 rows × 2 columns</p>\n",
       "</div>"
      ],
      "text/plain": [
       "       movieId  rating\n",
       "560          2     4.0\n",
       "1026         2     4.0\n",
       "1773         2     3.0\n",
       "2275         2     3.0\n",
       "2977         2     3.0\n",
       "...        ...     ...\n",
       "95102        2     4.0\n",
       "95965        2     4.0\n",
       "97044        2     5.0\n",
       "97144        2     3.5\n",
       "98667        2     2.0\n",
       "\n",
       "[110 rows x 2 columns]"
      ]
     },
     "execution_count": 624,
     "metadata": {},
     "output_type": "execute_result"
    }
   ],
   "source": [
    "ratings[ratings.movieId == int('2')]"
   ]
  },
  {
   "cell_type": "code",
   "execution_count": 625,
   "metadata": {},
   "outputs": [
    {
     "data": {
      "text/html": [
       "<div>\n",
       "<style scoped>\n",
       "    .dataframe tbody tr th:only-of-type {\n",
       "        vertical-align: middle;\n",
       "    }\n",
       "\n",
       "    .dataframe tbody tr th {\n",
       "        vertical-align: top;\n",
       "    }\n",
       "\n",
       "    .dataframe thead th {\n",
       "        text-align: right;\n",
       "    }\n",
       "</style>\n",
       "<table border=\"1\" class=\"dataframe\">\n",
       "  <thead>\n",
       "    <tr style=\"text-align: right;\">\n",
       "      <th></th>\n",
       "      <th>movieId</th>\n",
       "      <th>title</th>\n",
       "      <th>genres</th>\n",
       "      <th>userId</th>\n",
       "      <th>tag</th>\n",
       "      <th>timestamp</th>\n",
       "      <th>rating</th>\n",
       "    </tr>\n",
       "  </thead>\n",
       "  <tbody>\n",
       "    <tr>\n",
       "      <td>9710</td>\n",
       "      <td>187595</td>\n",
       "      <td>Solo: A Star Wars Story (2018)</td>\n",
       "      <td>Action|Adventure|Children|Sci-Fi</td>\n",
       "      <td>62.0</td>\n",
       "      <td>star wars</td>\n",
       "      <td>1.528935e+09</td>\n",
       "      <td>5.0</td>\n",
       "    </tr>\n",
       "    <tr>\n",
       "      <td>9732</td>\n",
       "      <td>193565</td>\n",
       "      <td>Gintama: The Movie (2010)</td>\n",
       "      <td>Action|Animation|Comedy|Sci-Fi</td>\n",
       "      <td>184.0</td>\n",
       "      <td>anime</td>\n",
       "      <td>1.537099e+09</td>\n",
       "      <td>3.5</td>\n",
       "    </tr>\n",
       "    <tr>\n",
       "      <td>9732</td>\n",
       "      <td>193565</td>\n",
       "      <td>Gintama: The Movie (2010)</td>\n",
       "      <td>Action|Animation|Comedy|Sci-Fi</td>\n",
       "      <td>184.0</td>\n",
       "      <td>comedy</td>\n",
       "      <td>1.537099e+09</td>\n",
       "      <td>3.5</td>\n",
       "    </tr>\n",
       "    <tr>\n",
       "      <td>9732</td>\n",
       "      <td>193565</td>\n",
       "      <td>Gintama: The Movie (2010)</td>\n",
       "      <td>Action|Animation|Comedy|Sci-Fi</td>\n",
       "      <td>184.0</td>\n",
       "      <td>gintama</td>\n",
       "      <td>1.537099e+09</td>\n",
       "      <td>3.5</td>\n",
       "    </tr>\n",
       "    <tr>\n",
       "      <td>9732</td>\n",
       "      <td>193565</td>\n",
       "      <td>Gintama: The Movie (2010)</td>\n",
       "      <td>Action|Animation|Comedy|Sci-Fi</td>\n",
       "      <td>184.0</td>\n",
       "      <td>remaster</td>\n",
       "      <td>1.537099e+09</td>\n",
       "      <td>3.5</td>\n",
       "    </tr>\n",
       "  </tbody>\n",
       "</table>\n",
       "</div>"
      ],
      "text/plain": [
       "      movieId                           title  \\\n",
       "9710   187595  Solo: A Star Wars Story (2018)   \n",
       "9732   193565       Gintama: The Movie (2010)   \n",
       "9732   193565       Gintama: The Movie (2010)   \n",
       "9732   193565       Gintama: The Movie (2010)   \n",
       "9732   193565       Gintama: The Movie (2010)   \n",
       "\n",
       "                                genres  userId        tag     timestamp  \\\n",
       "9710  Action|Adventure|Children|Sci-Fi    62.0  star wars  1.528935e+09   \n",
       "9732    Action|Animation|Comedy|Sci-Fi   184.0      anime  1.537099e+09   \n",
       "9732    Action|Animation|Comedy|Sci-Fi   184.0     comedy  1.537099e+09   \n",
       "9732    Action|Animation|Comedy|Sci-Fi   184.0    gintama  1.537099e+09   \n",
       "9732    Action|Animation|Comedy|Sci-Fi   184.0   remaster  1.537099e+09   \n",
       "\n",
       "      rating  \n",
       "9710     5.0  \n",
       "9732     3.5  \n",
       "9732     3.5  \n",
       "9732     3.5  \n",
       "9732     3.5  "
      ]
     },
     "execution_count": 625,
     "metadata": {},
     "output_type": "execute_result"
    }
   ],
   "source": [
    "movies_with_ratings = movies_with_tags.join(ratings.set_index(['movieId']), on='movieId').dropna()\n",
    "movies_with_ratings.tail()"
   ]
  },
  {
   "cell_type": "code",
   "execution_count": 626,
   "metadata": {},
   "outputs": [
    {
     "data": {
      "text/plain": [
       "array(['Toy Story (1995)', 'Jumanji (1995)', 'Grumpier Old Men (1995)',\n",
       "       ..., 'Deadpool 2 (2018)', 'Solo: A Star Wars Story (2018)',\n",
       "       'Gintama: The Movie (2010)'], dtype=object)"
      ]
     },
     "execution_count": 626,
     "metadata": {},
     "output_type": "execute_result"
    }
   ],
   "source": [
    "movies_with_ratings.title.unique()"
   ]
  },
  {
   "cell_type": "code",
   "execution_count": 627,
   "metadata": {},
   "outputs": [
    {
     "data": {
      "text/html": [
       "<div>\n",
       "<style scoped>\n",
       "    .dataframe tbody tr th:only-of-type {\n",
       "        vertical-align: middle;\n",
       "    }\n",
       "\n",
       "    .dataframe tbody tr th {\n",
       "        vertical-align: top;\n",
       "    }\n",
       "\n",
       "    .dataframe thead th {\n",
       "        text-align: right;\n",
       "    }\n",
       "</style>\n",
       "<table border=\"1\" class=\"dataframe\">\n",
       "  <thead>\n",
       "    <tr style=\"text-align: right;\">\n",
       "      <th></th>\n",
       "      <th>movieId</th>\n",
       "      <th>title</th>\n",
       "      <th>genres</th>\n",
       "      <th>userId</th>\n",
       "      <th>tag</th>\n",
       "      <th>timestamp</th>\n",
       "      <th>rating</th>\n",
       "    </tr>\n",
       "  </thead>\n",
       "  <tbody>\n",
       "    <tr>\n",
       "      <td>9710</td>\n",
       "      <td>187595</td>\n",
       "      <td>Solo: A Star Wars Story (2018)</td>\n",
       "      <td>Action|Adventure|Children|Sci-Fi</td>\n",
       "      <td>62.0</td>\n",
       "      <td>Emilia Clarke</td>\n",
       "      <td>1.528935e+09</td>\n",
       "      <td>4.0</td>\n",
       "    </tr>\n",
       "    <tr>\n",
       "      <td>9710</td>\n",
       "      <td>187595</td>\n",
       "      <td>Solo: A Star Wars Story (2018)</td>\n",
       "      <td>Action|Adventure|Children|Sci-Fi</td>\n",
       "      <td>62.0</td>\n",
       "      <td>Emilia Clarke</td>\n",
       "      <td>1.528935e+09</td>\n",
       "      <td>4.0</td>\n",
       "    </tr>\n",
       "    <tr>\n",
       "      <td>9710</td>\n",
       "      <td>187595</td>\n",
       "      <td>Solo: A Star Wars Story (2018)</td>\n",
       "      <td>Action|Adventure|Children|Sci-Fi</td>\n",
       "      <td>62.0</td>\n",
       "      <td>Emilia Clarke</td>\n",
       "      <td>1.528935e+09</td>\n",
       "      <td>3.5</td>\n",
       "    </tr>\n",
       "    <tr>\n",
       "      <td>9710</td>\n",
       "      <td>187595</td>\n",
       "      <td>Solo: A Star Wars Story (2018)</td>\n",
       "      <td>Action|Adventure|Children|Sci-Fi</td>\n",
       "      <td>62.0</td>\n",
       "      <td>Emilia Clarke</td>\n",
       "      <td>1.528935e+09</td>\n",
       "      <td>3.0</td>\n",
       "    </tr>\n",
       "    <tr>\n",
       "      <td>9710</td>\n",
       "      <td>187595</td>\n",
       "      <td>Solo: A Star Wars Story (2018)</td>\n",
       "      <td>Action|Adventure|Children|Sci-Fi</td>\n",
       "      <td>62.0</td>\n",
       "      <td>Emilia Clarke</td>\n",
       "      <td>1.528935e+09</td>\n",
       "      <td>5.0</td>\n",
       "    </tr>\n",
       "    <tr>\n",
       "      <td>9710</td>\n",
       "      <td>187595</td>\n",
       "      <td>Solo: A Star Wars Story (2018)</td>\n",
       "      <td>Action|Adventure|Children|Sci-Fi</td>\n",
       "      <td>62.0</td>\n",
       "      <td>star wars</td>\n",
       "      <td>1.528935e+09</td>\n",
       "      <td>4.0</td>\n",
       "    </tr>\n",
       "    <tr>\n",
       "      <td>9710</td>\n",
       "      <td>187595</td>\n",
       "      <td>Solo: A Star Wars Story (2018)</td>\n",
       "      <td>Action|Adventure|Children|Sci-Fi</td>\n",
       "      <td>62.0</td>\n",
       "      <td>star wars</td>\n",
       "      <td>1.528935e+09</td>\n",
       "      <td>4.0</td>\n",
       "    </tr>\n",
       "    <tr>\n",
       "      <td>9710</td>\n",
       "      <td>187595</td>\n",
       "      <td>Solo: A Star Wars Story (2018)</td>\n",
       "      <td>Action|Adventure|Children|Sci-Fi</td>\n",
       "      <td>62.0</td>\n",
       "      <td>star wars</td>\n",
       "      <td>1.528935e+09</td>\n",
       "      <td>3.5</td>\n",
       "    </tr>\n",
       "    <tr>\n",
       "      <td>9710</td>\n",
       "      <td>187595</td>\n",
       "      <td>Solo: A Star Wars Story (2018)</td>\n",
       "      <td>Action|Adventure|Children|Sci-Fi</td>\n",
       "      <td>62.0</td>\n",
       "      <td>star wars</td>\n",
       "      <td>1.528935e+09</td>\n",
       "      <td>3.0</td>\n",
       "    </tr>\n",
       "    <tr>\n",
       "      <td>9710</td>\n",
       "      <td>187595</td>\n",
       "      <td>Solo: A Star Wars Story (2018)</td>\n",
       "      <td>Action|Adventure|Children|Sci-Fi</td>\n",
       "      <td>62.0</td>\n",
       "      <td>star wars</td>\n",
       "      <td>1.528935e+09</td>\n",
       "      <td>5.0</td>\n",
       "    </tr>\n",
       "  </tbody>\n",
       "</table>\n",
       "</div>"
      ],
      "text/plain": [
       "      movieId                           title  \\\n",
       "9710   187595  Solo: A Star Wars Story (2018)   \n",
       "9710   187595  Solo: A Star Wars Story (2018)   \n",
       "9710   187595  Solo: A Star Wars Story (2018)   \n",
       "9710   187595  Solo: A Star Wars Story (2018)   \n",
       "9710   187595  Solo: A Star Wars Story (2018)   \n",
       "9710   187595  Solo: A Star Wars Story (2018)   \n",
       "9710   187595  Solo: A Star Wars Story (2018)   \n",
       "9710   187595  Solo: A Star Wars Story (2018)   \n",
       "9710   187595  Solo: A Star Wars Story (2018)   \n",
       "9710   187595  Solo: A Star Wars Story (2018)   \n",
       "\n",
       "                                genres  userId            tag     timestamp  \\\n",
       "9710  Action|Adventure|Children|Sci-Fi    62.0  Emilia Clarke  1.528935e+09   \n",
       "9710  Action|Adventure|Children|Sci-Fi    62.0  Emilia Clarke  1.528935e+09   \n",
       "9710  Action|Adventure|Children|Sci-Fi    62.0  Emilia Clarke  1.528935e+09   \n",
       "9710  Action|Adventure|Children|Sci-Fi    62.0  Emilia Clarke  1.528935e+09   \n",
       "9710  Action|Adventure|Children|Sci-Fi    62.0  Emilia Clarke  1.528935e+09   \n",
       "9710  Action|Adventure|Children|Sci-Fi    62.0      star wars  1.528935e+09   \n",
       "9710  Action|Adventure|Children|Sci-Fi    62.0      star wars  1.528935e+09   \n",
       "9710  Action|Adventure|Children|Sci-Fi    62.0      star wars  1.528935e+09   \n",
       "9710  Action|Adventure|Children|Sci-Fi    62.0      star wars  1.528935e+09   \n",
       "9710  Action|Adventure|Children|Sci-Fi    62.0      star wars  1.528935e+09   \n",
       "\n",
       "      rating  \n",
       "9710     4.0  \n",
       "9710     4.0  \n",
       "9710     3.5  \n",
       "9710     3.0  \n",
       "9710     5.0  \n",
       "9710     4.0  \n",
       "9710     4.0  \n",
       "9710     3.5  \n",
       "9710     3.0  \n",
       "9710     5.0  "
      ]
     },
     "execution_count": 627,
     "metadata": {},
     "output_type": "execute_result"
    }
   ],
   "source": [
    "movies_with_ratings[movies_with_ratings.title == 'Solo: A Star Wars Story (2018)']"
   ]
  },
  {
   "cell_type": "code",
   "execution_count": 628,
   "metadata": {
    "collapsed": true
   },
   "outputs": [],
   "source": [
    "def change_string(s):\n",
    "    return ' '.join(s.replace(' ', '').replace('-', '').split('|'))"
   ]
  },
  {
   "cell_type": "code",
   "execution_count": 629,
   "metadata": {
    "collapsed": true
   },
   "outputs": [],
   "source": [
    "vectorizer = TfidfVectorizer()"
   ]
  },
  {
   "cell_type": "code",
   "execution_count": 630,
   "metadata": {},
   "outputs": [],
   "source": [
    "movies_with_ratings['genres'] = movies_with_ratings['genres'].apply(change_string)"
   ]
  },
  {
   "cell_type": "code",
   "execution_count": 631,
   "metadata": {},
   "outputs": [
    {
     "data": {
      "text/html": [
       "<div>\n",
       "<style scoped>\n",
       "    .dataframe tbody tr th:only-of-type {\n",
       "        vertical-align: middle;\n",
       "    }\n",
       "\n",
       "    .dataframe tbody tr th {\n",
       "        vertical-align: top;\n",
       "    }\n",
       "\n",
       "    .dataframe thead th {\n",
       "        text-align: right;\n",
       "    }\n",
       "</style>\n",
       "<table border=\"1\" class=\"dataframe\">\n",
       "  <thead>\n",
       "    <tr style=\"text-align: right;\">\n",
       "      <th></th>\n",
       "      <th>movieId</th>\n",
       "      <th>title</th>\n",
       "      <th>genres</th>\n",
       "      <th>userId</th>\n",
       "      <th>tag</th>\n",
       "      <th>timestamp</th>\n",
       "      <th>rating</th>\n",
       "    </tr>\n",
       "  </thead>\n",
       "  <tbody>\n",
       "    <tr>\n",
       "      <td>9710</td>\n",
       "      <td>187595</td>\n",
       "      <td>Solo: A Star Wars Story (2018)</td>\n",
       "      <td>Action Adventure Children SciFi</td>\n",
       "      <td>62.0</td>\n",
       "      <td>Emilia Clarke</td>\n",
       "      <td>1.528935e+09</td>\n",
       "      <td>4.0</td>\n",
       "    </tr>\n",
       "    <tr>\n",
       "      <td>9710</td>\n",
       "      <td>187595</td>\n",
       "      <td>Solo: A Star Wars Story (2018)</td>\n",
       "      <td>Action Adventure Children SciFi</td>\n",
       "      <td>62.0</td>\n",
       "      <td>Emilia Clarke</td>\n",
       "      <td>1.528935e+09</td>\n",
       "      <td>4.0</td>\n",
       "    </tr>\n",
       "    <tr>\n",
       "      <td>9710</td>\n",
       "      <td>187595</td>\n",
       "      <td>Solo: A Star Wars Story (2018)</td>\n",
       "      <td>Action Adventure Children SciFi</td>\n",
       "      <td>62.0</td>\n",
       "      <td>Emilia Clarke</td>\n",
       "      <td>1.528935e+09</td>\n",
       "      <td>3.5</td>\n",
       "    </tr>\n",
       "    <tr>\n",
       "      <td>9710</td>\n",
       "      <td>187595</td>\n",
       "      <td>Solo: A Star Wars Story (2018)</td>\n",
       "      <td>Action Adventure Children SciFi</td>\n",
       "      <td>62.0</td>\n",
       "      <td>Emilia Clarke</td>\n",
       "      <td>1.528935e+09</td>\n",
       "      <td>3.0</td>\n",
       "    </tr>\n",
       "    <tr>\n",
       "      <td>9710</td>\n",
       "      <td>187595</td>\n",
       "      <td>Solo: A Star Wars Story (2018)</td>\n",
       "      <td>Action Adventure Children SciFi</td>\n",
       "      <td>62.0</td>\n",
       "      <td>Emilia Clarke</td>\n",
       "      <td>1.528935e+09</td>\n",
       "      <td>5.0</td>\n",
       "    </tr>\n",
       "    <tr>\n",
       "      <td>9710</td>\n",
       "      <td>187595</td>\n",
       "      <td>Solo: A Star Wars Story (2018)</td>\n",
       "      <td>Action Adventure Children SciFi</td>\n",
       "      <td>62.0</td>\n",
       "      <td>star wars</td>\n",
       "      <td>1.528935e+09</td>\n",
       "      <td>4.0</td>\n",
       "    </tr>\n",
       "    <tr>\n",
       "      <td>9710</td>\n",
       "      <td>187595</td>\n",
       "      <td>Solo: A Star Wars Story (2018)</td>\n",
       "      <td>Action Adventure Children SciFi</td>\n",
       "      <td>62.0</td>\n",
       "      <td>star wars</td>\n",
       "      <td>1.528935e+09</td>\n",
       "      <td>4.0</td>\n",
       "    </tr>\n",
       "    <tr>\n",
       "      <td>9710</td>\n",
       "      <td>187595</td>\n",
       "      <td>Solo: A Star Wars Story (2018)</td>\n",
       "      <td>Action Adventure Children SciFi</td>\n",
       "      <td>62.0</td>\n",
       "      <td>star wars</td>\n",
       "      <td>1.528935e+09</td>\n",
       "      <td>3.5</td>\n",
       "    </tr>\n",
       "    <tr>\n",
       "      <td>9710</td>\n",
       "      <td>187595</td>\n",
       "      <td>Solo: A Star Wars Story (2018)</td>\n",
       "      <td>Action Adventure Children SciFi</td>\n",
       "      <td>62.0</td>\n",
       "      <td>star wars</td>\n",
       "      <td>1.528935e+09</td>\n",
       "      <td>3.0</td>\n",
       "    </tr>\n",
       "    <tr>\n",
       "      <td>9710</td>\n",
       "      <td>187595</td>\n",
       "      <td>Solo: A Star Wars Story (2018)</td>\n",
       "      <td>Action Adventure Children SciFi</td>\n",
       "      <td>62.0</td>\n",
       "      <td>star wars</td>\n",
       "      <td>1.528935e+09</td>\n",
       "      <td>5.0</td>\n",
       "    </tr>\n",
       "  </tbody>\n",
       "</table>\n",
       "</div>"
      ],
      "text/plain": [
       "      movieId                           title  \\\n",
       "9710   187595  Solo: A Star Wars Story (2018)   \n",
       "9710   187595  Solo: A Star Wars Story (2018)   \n",
       "9710   187595  Solo: A Star Wars Story (2018)   \n",
       "9710   187595  Solo: A Star Wars Story (2018)   \n",
       "9710   187595  Solo: A Star Wars Story (2018)   \n",
       "9710   187595  Solo: A Star Wars Story (2018)   \n",
       "9710   187595  Solo: A Star Wars Story (2018)   \n",
       "9710   187595  Solo: A Star Wars Story (2018)   \n",
       "9710   187595  Solo: A Star Wars Story (2018)   \n",
       "9710   187595  Solo: A Star Wars Story (2018)   \n",
       "\n",
       "                               genres  userId            tag     timestamp  \\\n",
       "9710  Action Adventure Children SciFi    62.0  Emilia Clarke  1.528935e+09   \n",
       "9710  Action Adventure Children SciFi    62.0  Emilia Clarke  1.528935e+09   \n",
       "9710  Action Adventure Children SciFi    62.0  Emilia Clarke  1.528935e+09   \n",
       "9710  Action Adventure Children SciFi    62.0  Emilia Clarke  1.528935e+09   \n",
       "9710  Action Adventure Children SciFi    62.0  Emilia Clarke  1.528935e+09   \n",
       "9710  Action Adventure Children SciFi    62.0      star wars  1.528935e+09   \n",
       "9710  Action Adventure Children SciFi    62.0      star wars  1.528935e+09   \n",
       "9710  Action Adventure Children SciFi    62.0      star wars  1.528935e+09   \n",
       "9710  Action Adventure Children SciFi    62.0      star wars  1.528935e+09   \n",
       "9710  Action Adventure Children SciFi    62.0      star wars  1.528935e+09   \n",
       "\n",
       "      rating  \n",
       "9710     4.0  \n",
       "9710     4.0  \n",
       "9710     3.5  \n",
       "9710     3.0  \n",
       "9710     5.0  \n",
       "9710     4.0  \n",
       "9710     4.0  \n",
       "9710     3.5  \n",
       "9710     3.0  \n",
       "9710     5.0  "
      ]
     },
     "execution_count": 631,
     "metadata": {},
     "output_type": "execute_result"
    }
   ],
   "source": [
    "movies_with_ratings[movies_with_ratings.title == 'Solo: A Star Wars Story (2018)']"
   ]
  },
  {
   "cell_type": "code",
   "execution_count": 632,
   "metadata": {},
   "outputs": [],
   "source": [
    "movies_with_ratings['genres'] = vectorizer.fit_transform(movies_with_ratings['genres'].apply(change_string))"
   ]
  },
  {
   "cell_type": "code",
   "execution_count": 633,
   "metadata": {},
   "outputs": [
    {
     "data": {
      "text/html": [
       "<div>\n",
       "<style scoped>\n",
       "    .dataframe tbody tr th:only-of-type {\n",
       "        vertical-align: middle;\n",
       "    }\n",
       "\n",
       "    .dataframe tbody tr th {\n",
       "        vertical-align: top;\n",
       "    }\n",
       "\n",
       "    .dataframe thead th {\n",
       "        text-align: right;\n",
       "    }\n",
       "</style>\n",
       "<table border=\"1\" class=\"dataframe\">\n",
       "  <thead>\n",
       "    <tr style=\"text-align: right;\">\n",
       "      <th></th>\n",
       "      <th>movieId</th>\n",
       "      <th>title</th>\n",
       "      <th>genres</th>\n",
       "      <th>userId</th>\n",
       "      <th>tag</th>\n",
       "      <th>timestamp</th>\n",
       "      <th>rating</th>\n",
       "    </tr>\n",
       "  </thead>\n",
       "  <tbody>\n",
       "    <tr>\n",
       "      <td>9710</td>\n",
       "      <td>187595</td>\n",
       "      <td>Solo: A Star Wars Story (2018)</td>\n",
       "      <td>(0, 114)\\t1.0\\n  (1, 114)\\t1.0\\n  (2, 114)\\t...</td>\n",
       "      <td>62.0</td>\n",
       "      <td>Emilia Clarke</td>\n",
       "      <td>1.528935e+09</td>\n",
       "      <td>4.0</td>\n",
       "    </tr>\n",
       "    <tr>\n",
       "      <td>9710</td>\n",
       "      <td>187595</td>\n",
       "      <td>Solo: A Star Wars Story (2018)</td>\n",
       "      <td>(0, 114)\\t1.0\\n  (1, 114)\\t1.0\\n  (2, 114)\\t...</td>\n",
       "      <td>62.0</td>\n",
       "      <td>Emilia Clarke</td>\n",
       "      <td>1.528935e+09</td>\n",
       "      <td>4.0</td>\n",
       "    </tr>\n",
       "    <tr>\n",
       "      <td>9710</td>\n",
       "      <td>187595</td>\n",
       "      <td>Solo: A Star Wars Story (2018)</td>\n",
       "      <td>(0, 114)\\t1.0\\n  (1, 114)\\t1.0\\n  (2, 114)\\t...</td>\n",
       "      <td>62.0</td>\n",
       "      <td>Emilia Clarke</td>\n",
       "      <td>1.528935e+09</td>\n",
       "      <td>3.5</td>\n",
       "    </tr>\n",
       "    <tr>\n",
       "      <td>9710</td>\n",
       "      <td>187595</td>\n",
       "      <td>Solo: A Star Wars Story (2018)</td>\n",
       "      <td>(0, 114)\\t1.0\\n  (1, 114)\\t1.0\\n  (2, 114)\\t...</td>\n",
       "      <td>62.0</td>\n",
       "      <td>Emilia Clarke</td>\n",
       "      <td>1.528935e+09</td>\n",
       "      <td>3.0</td>\n",
       "    </tr>\n",
       "    <tr>\n",
       "      <td>9710</td>\n",
       "      <td>187595</td>\n",
       "      <td>Solo: A Star Wars Story (2018)</td>\n",
       "      <td>(0, 114)\\t1.0\\n  (1, 114)\\t1.0\\n  (2, 114)\\t...</td>\n",
       "      <td>62.0</td>\n",
       "      <td>Emilia Clarke</td>\n",
       "      <td>1.528935e+09</td>\n",
       "      <td>5.0</td>\n",
       "    </tr>\n",
       "    <tr>\n",
       "      <td>9710</td>\n",
       "      <td>187595</td>\n",
       "      <td>Solo: A Star Wars Story (2018)</td>\n",
       "      <td>(0, 114)\\t1.0\\n  (1, 114)\\t1.0\\n  (2, 114)\\t...</td>\n",
       "      <td>62.0</td>\n",
       "      <td>star wars</td>\n",
       "      <td>1.528935e+09</td>\n",
       "      <td>4.0</td>\n",
       "    </tr>\n",
       "    <tr>\n",
       "      <td>9710</td>\n",
       "      <td>187595</td>\n",
       "      <td>Solo: A Star Wars Story (2018)</td>\n",
       "      <td>(0, 114)\\t1.0\\n  (1, 114)\\t1.0\\n  (2, 114)\\t...</td>\n",
       "      <td>62.0</td>\n",
       "      <td>star wars</td>\n",
       "      <td>1.528935e+09</td>\n",
       "      <td>4.0</td>\n",
       "    </tr>\n",
       "    <tr>\n",
       "      <td>9710</td>\n",
       "      <td>187595</td>\n",
       "      <td>Solo: A Star Wars Story (2018)</td>\n",
       "      <td>(0, 114)\\t1.0\\n  (1, 114)\\t1.0\\n  (2, 114)\\t...</td>\n",
       "      <td>62.0</td>\n",
       "      <td>star wars</td>\n",
       "      <td>1.528935e+09</td>\n",
       "      <td>3.5</td>\n",
       "    </tr>\n",
       "    <tr>\n",
       "      <td>9710</td>\n",
       "      <td>187595</td>\n",
       "      <td>Solo: A Star Wars Story (2018)</td>\n",
       "      <td>(0, 114)\\t1.0\\n  (1, 114)\\t1.0\\n  (2, 114)\\t...</td>\n",
       "      <td>62.0</td>\n",
       "      <td>star wars</td>\n",
       "      <td>1.528935e+09</td>\n",
       "      <td>3.0</td>\n",
       "    </tr>\n",
       "    <tr>\n",
       "      <td>9710</td>\n",
       "      <td>187595</td>\n",
       "      <td>Solo: A Star Wars Story (2018)</td>\n",
       "      <td>(0, 114)\\t1.0\\n  (1, 114)\\t1.0\\n  (2, 114)\\t...</td>\n",
       "      <td>62.0</td>\n",
       "      <td>star wars</td>\n",
       "      <td>1.528935e+09</td>\n",
       "      <td>5.0</td>\n",
       "    </tr>\n",
       "  </tbody>\n",
       "</table>\n",
       "</div>"
      ],
      "text/plain": [
       "      movieId                           title  \\\n",
       "9710   187595  Solo: A Star Wars Story (2018)   \n",
       "9710   187595  Solo: A Star Wars Story (2018)   \n",
       "9710   187595  Solo: A Star Wars Story (2018)   \n",
       "9710   187595  Solo: A Star Wars Story (2018)   \n",
       "9710   187595  Solo: A Star Wars Story (2018)   \n",
       "9710   187595  Solo: A Star Wars Story (2018)   \n",
       "9710   187595  Solo: A Star Wars Story (2018)   \n",
       "9710   187595  Solo: A Star Wars Story (2018)   \n",
       "9710   187595  Solo: A Star Wars Story (2018)   \n",
       "9710   187595  Solo: A Star Wars Story (2018)   \n",
       "\n",
       "                                                 genres  userId  \\\n",
       "9710    (0, 114)\\t1.0\\n  (1, 114)\\t1.0\\n  (2, 114)\\t...    62.0   \n",
       "9710    (0, 114)\\t1.0\\n  (1, 114)\\t1.0\\n  (2, 114)\\t...    62.0   \n",
       "9710    (0, 114)\\t1.0\\n  (1, 114)\\t1.0\\n  (2, 114)\\t...    62.0   \n",
       "9710    (0, 114)\\t1.0\\n  (1, 114)\\t1.0\\n  (2, 114)\\t...    62.0   \n",
       "9710    (0, 114)\\t1.0\\n  (1, 114)\\t1.0\\n  (2, 114)\\t...    62.0   \n",
       "9710    (0, 114)\\t1.0\\n  (1, 114)\\t1.0\\n  (2, 114)\\t...    62.0   \n",
       "9710    (0, 114)\\t1.0\\n  (1, 114)\\t1.0\\n  (2, 114)\\t...    62.0   \n",
       "9710    (0, 114)\\t1.0\\n  (1, 114)\\t1.0\\n  (2, 114)\\t...    62.0   \n",
       "9710    (0, 114)\\t1.0\\n  (1, 114)\\t1.0\\n  (2, 114)\\t...    62.0   \n",
       "9710    (0, 114)\\t1.0\\n  (1, 114)\\t1.0\\n  (2, 114)\\t...    62.0   \n",
       "\n",
       "                tag     timestamp  rating  \n",
       "9710  Emilia Clarke  1.528935e+09     4.0  \n",
       "9710  Emilia Clarke  1.528935e+09     4.0  \n",
       "9710  Emilia Clarke  1.528935e+09     3.5  \n",
       "9710  Emilia Clarke  1.528935e+09     3.0  \n",
       "9710  Emilia Clarke  1.528935e+09     5.0  \n",
       "9710      star wars  1.528935e+09     4.0  \n",
       "9710      star wars  1.528935e+09     4.0  \n",
       "9710      star wars  1.528935e+09     3.5  \n",
       "9710      star wars  1.528935e+09     3.0  \n",
       "9710      star wars  1.528935e+09     5.0  "
      ]
     },
     "execution_count": 633,
     "metadata": {},
     "output_type": "execute_result"
    }
   ],
   "source": [
    "movies_with_ratings[movies_with_ratings.title == 'Solo: A Star Wars Story (2018)']"
   ]
  },
  {
   "cell_type": "code",
   "execution_count": 634,
   "metadata": {},
   "outputs": [
    {
     "data": {
      "text/plain": [
       "  (0, 114)\\t1.0\\n  (1, 114)\\t1.0\\n  (2, 114)\\t1.0\\n  (3, 114)\\t1.0\\n  (4, 114)\\t1.0\\n  (5, 114)\\t1.0\\n  (6, 114)\\t1.0\\n  (7, 114)\\t1.0\\n  (8, 114)\\t1.0\\n  (9, 114)\\t1.0\\n  (10, 114)\\t1.0\\n  (11, 114)\\t1.0\\n  (12, 114)\\t1.0\\n  (13, 114)\\t1.0\\n  (14, 114)\\t1.0\\n  (15, 114)\\t1.0\\n  (16, 114)\\t1.0\\n  (17, 114)\\t1.0\\n  (18, 114)\\t1.0\\n  (19, 114)\\t1.0\\n  (20, 114)\\t1.0\\n  (21, 114)\\t1.0\\n  (22, 114)\\t1.0\\n  (23, 114)\\t1.0\\n  (24, 114)\\t1.0\\n  :\\t:\\n  (233188, 64)\\t1.0\\n  (233189, 64)\\t1.0\\n  (233190, 64)\\t1.0\\n  (233191, 64)\\t1.0\\n  (233192, 64)\\t1.0\\n  (233193, 64)\\t1.0\\n  (233194, 64)\\t1.0\\n  (233195, 64)\\t1.0\\n  (233196, 64)\\t1.0\\n  (233197, 64)\\t1.0\\n  (233198, 64)\\t1.0\\n  (233199, 11)\\t1.0\\n  (233200, 11)\\t1.0\\n  (233201, 11)\\t1.0\\n  (233202, 11)\\t1.0\\n  (233203, 11)\\t1.0\\n  (233204, 11)\\t1.0\\n  (233205, 11)\\t1.0\\n  (233206, 11)\\t1.0\\n  (233207, 11)\\t1.0\\n  (233208, 11)\\t1.0\\n  (233209, 47)\\t1.0\\n  (233210, 47)\\t1.0\\n  (233211, 47)\\t1.0\\n  (233212, 47)\\t1.0    233213\n",
       "Name: genres, dtype: int64"
      ]
     },
     "execution_count": 634,
     "metadata": {},
     "output_type": "execute_result"
    }
   ],
   "source": [
    "movies_with_ratings.genres.value_counts()"
   ]
  },
  {
   "cell_type": "code",
   "execution_count": 635,
   "metadata": {
    "collapsed": true
   },
   "outputs": [],
   "source": [
    "def change_tag(s):\n",
    "    return ' '.join(s.replace(' ', '').replace('-', '').split(' '))"
   ]
  },
  {
   "cell_type": "code",
   "execution_count": 636,
   "metadata": {},
   "outputs": [],
   "source": [
    "movies_with_ratings['tag'] = movies_with_ratings['tag'].apply(change_tag)"
   ]
  },
  {
   "cell_type": "code",
   "execution_count": 637,
   "metadata": {},
   "outputs": [
    {
     "data": {
      "text/html": [
       "<div>\n",
       "<style scoped>\n",
       "    .dataframe tbody tr th:only-of-type {\n",
       "        vertical-align: middle;\n",
       "    }\n",
       "\n",
       "    .dataframe tbody tr th {\n",
       "        vertical-align: top;\n",
       "    }\n",
       "\n",
       "    .dataframe thead th {\n",
       "        text-align: right;\n",
       "    }\n",
       "</style>\n",
       "<table border=\"1\" class=\"dataframe\">\n",
       "  <thead>\n",
       "    <tr style=\"text-align: right;\">\n",
       "      <th></th>\n",
       "      <th>movieId</th>\n",
       "      <th>title</th>\n",
       "      <th>genres</th>\n",
       "      <th>userId</th>\n",
       "      <th>tag</th>\n",
       "      <th>timestamp</th>\n",
       "      <th>rating</th>\n",
       "    </tr>\n",
       "  </thead>\n",
       "  <tbody>\n",
       "    <tr>\n",
       "      <td>9732</td>\n",
       "      <td>193565</td>\n",
       "      <td>Gintama: The Movie (2010)</td>\n",
       "      <td>(0, 114)\\t1.0\\n  (1, 114)\\t1.0\\n  (2, 114)\\t...</td>\n",
       "      <td>184.0</td>\n",
       "      <td>anime</td>\n",
       "      <td>1.537099e+09</td>\n",
       "      <td>3.5</td>\n",
       "    </tr>\n",
       "    <tr>\n",
       "      <td>9732</td>\n",
       "      <td>193565</td>\n",
       "      <td>Gintama: The Movie (2010)</td>\n",
       "      <td>(0, 114)\\t1.0\\n  (1, 114)\\t1.0\\n  (2, 114)\\t...</td>\n",
       "      <td>184.0</td>\n",
       "      <td>comedy</td>\n",
       "      <td>1.537099e+09</td>\n",
       "      <td>3.5</td>\n",
       "    </tr>\n",
       "    <tr>\n",
       "      <td>9732</td>\n",
       "      <td>193565</td>\n",
       "      <td>Gintama: The Movie (2010)</td>\n",
       "      <td>(0, 114)\\t1.0\\n  (1, 114)\\t1.0\\n  (2, 114)\\t...</td>\n",
       "      <td>184.0</td>\n",
       "      <td>gintama</td>\n",
       "      <td>1.537099e+09</td>\n",
       "      <td>3.5</td>\n",
       "    </tr>\n",
       "    <tr>\n",
       "      <td>9732</td>\n",
       "      <td>193565</td>\n",
       "      <td>Gintama: The Movie (2010)</td>\n",
       "      <td>(0, 114)\\t1.0\\n  (1, 114)\\t1.0\\n  (2, 114)\\t...</td>\n",
       "      <td>184.0</td>\n",
       "      <td>remaster</td>\n",
       "      <td>1.537099e+09</td>\n",
       "      <td>3.5</td>\n",
       "    </tr>\n",
       "  </tbody>\n",
       "</table>\n",
       "</div>"
      ],
      "text/plain": [
       "      movieId                      title  \\\n",
       "9732   193565  Gintama: The Movie (2010)   \n",
       "9732   193565  Gintama: The Movie (2010)   \n",
       "9732   193565  Gintama: The Movie (2010)   \n",
       "9732   193565  Gintama: The Movie (2010)   \n",
       "\n",
       "                                                 genres  userId       tag  \\\n",
       "9732    (0, 114)\\t1.0\\n  (1, 114)\\t1.0\\n  (2, 114)\\t...   184.0     anime   \n",
       "9732    (0, 114)\\t1.0\\n  (1, 114)\\t1.0\\n  (2, 114)\\t...   184.0    comedy   \n",
       "9732    (0, 114)\\t1.0\\n  (1, 114)\\t1.0\\n  (2, 114)\\t...   184.0   gintama   \n",
       "9732    (0, 114)\\t1.0\\n  (1, 114)\\t1.0\\n  (2, 114)\\t...   184.0  remaster   \n",
       "\n",
       "         timestamp  rating  \n",
       "9732  1.537099e+09     3.5  \n",
       "9732  1.537099e+09     3.5  \n",
       "9732  1.537099e+09     3.5  \n",
       "9732  1.537099e+09     3.5  "
      ]
     },
     "execution_count": 637,
     "metadata": {},
     "output_type": "execute_result"
    }
   ],
   "source": [
    "movies_with_ratings[movies_with_ratings.title == 'Gintama: The Movie (2010)']"
   ]
  },
  {
   "cell_type": "code",
   "execution_count": 638,
   "metadata": {},
   "outputs": [],
   "source": [
    "movies_with_ratings['tag'] = vectorizer.fit_transform(movies_with_ratings['tag'].apply(change_tag))"
   ]
  },
  {
   "cell_type": "code",
   "execution_count": 639,
   "metadata": {},
   "outputs": [
    {
     "data": {
      "text/html": [
       "<div>\n",
       "<style scoped>\n",
       "    .dataframe tbody tr th:only-of-type {\n",
       "        vertical-align: middle;\n",
       "    }\n",
       "\n",
       "    .dataframe tbody tr th {\n",
       "        vertical-align: top;\n",
       "    }\n",
       "\n",
       "    .dataframe thead th {\n",
       "        text-align: right;\n",
       "    }\n",
       "</style>\n",
       "<table border=\"1\" class=\"dataframe\">\n",
       "  <thead>\n",
       "    <tr style=\"text-align: right;\">\n",
       "      <th></th>\n",
       "      <th>movieId</th>\n",
       "      <th>title</th>\n",
       "      <th>genres</th>\n",
       "      <th>userId</th>\n",
       "      <th>tag</th>\n",
       "      <th>timestamp</th>\n",
       "      <th>rating</th>\n",
       "    </tr>\n",
       "  </thead>\n",
       "  <tbody>\n",
       "    <tr>\n",
       "      <td>9732</td>\n",
       "      <td>193565</td>\n",
       "      <td>Gintama: The Movie (2010)</td>\n",
       "      <td>(0, 114)\\t1.0\\n  (1, 114)\\t1.0\\n  (2, 114)\\t...</td>\n",
       "      <td>184.0</td>\n",
       "      <td>(0, 1011)\\t1.0\\n  (1, 1011)\\t1.0\\n  (2, 1011...</td>\n",
       "      <td>1.537099e+09</td>\n",
       "      <td>3.5</td>\n",
       "    </tr>\n",
       "    <tr>\n",
       "      <td>9732</td>\n",
       "      <td>193565</td>\n",
       "      <td>Gintama: The Movie (2010)</td>\n",
       "      <td>(0, 114)\\t1.0\\n  (1, 114)\\t1.0\\n  (2, 114)\\t...</td>\n",
       "      <td>184.0</td>\n",
       "      <td>(0, 1011)\\t1.0\\n  (1, 1011)\\t1.0\\n  (2, 1011...</td>\n",
       "      <td>1.537099e+09</td>\n",
       "      <td>3.5</td>\n",
       "    </tr>\n",
       "    <tr>\n",
       "      <td>9732</td>\n",
       "      <td>193565</td>\n",
       "      <td>Gintama: The Movie (2010)</td>\n",
       "      <td>(0, 114)\\t1.0\\n  (1, 114)\\t1.0\\n  (2, 114)\\t...</td>\n",
       "      <td>184.0</td>\n",
       "      <td>(0, 1011)\\t1.0\\n  (1, 1011)\\t1.0\\n  (2, 1011...</td>\n",
       "      <td>1.537099e+09</td>\n",
       "      <td>3.5</td>\n",
       "    </tr>\n",
       "    <tr>\n",
       "      <td>9732</td>\n",
       "      <td>193565</td>\n",
       "      <td>Gintama: The Movie (2010)</td>\n",
       "      <td>(0, 114)\\t1.0\\n  (1, 114)\\t1.0\\n  (2, 114)\\t...</td>\n",
       "      <td>184.0</td>\n",
       "      <td>(0, 1011)\\t1.0\\n  (1, 1011)\\t1.0\\n  (2, 1011...</td>\n",
       "      <td>1.537099e+09</td>\n",
       "      <td>3.5</td>\n",
       "    </tr>\n",
       "  </tbody>\n",
       "</table>\n",
       "</div>"
      ],
      "text/plain": [
       "      movieId                      title  \\\n",
       "9732   193565  Gintama: The Movie (2010)   \n",
       "9732   193565  Gintama: The Movie (2010)   \n",
       "9732   193565  Gintama: The Movie (2010)   \n",
       "9732   193565  Gintama: The Movie (2010)   \n",
       "\n",
       "                                                 genres  userId  \\\n",
       "9732    (0, 114)\\t1.0\\n  (1, 114)\\t1.0\\n  (2, 114)\\t...   184.0   \n",
       "9732    (0, 114)\\t1.0\\n  (1, 114)\\t1.0\\n  (2, 114)\\t...   184.0   \n",
       "9732    (0, 114)\\t1.0\\n  (1, 114)\\t1.0\\n  (2, 114)\\t...   184.0   \n",
       "9732    (0, 114)\\t1.0\\n  (1, 114)\\t1.0\\n  (2, 114)\\t...   184.0   \n",
       "\n",
       "                                                    tag     timestamp  rating  \n",
       "9732    (0, 1011)\\t1.0\\n  (1, 1011)\\t1.0\\n  (2, 1011...  1.537099e+09     3.5  \n",
       "9732    (0, 1011)\\t1.0\\n  (1, 1011)\\t1.0\\n  (2, 1011...  1.537099e+09     3.5  \n",
       "9732    (0, 1011)\\t1.0\\n  (1, 1011)\\t1.0\\n  (2, 1011...  1.537099e+09     3.5  \n",
       "9732    (0, 1011)\\t1.0\\n  (1, 1011)\\t1.0\\n  (2, 1011...  1.537099e+09     3.5  "
      ]
     },
     "execution_count": 639,
     "metadata": {},
     "output_type": "execute_result"
    }
   ],
   "source": [
    "movies_with_ratings[movies_with_ratings.title == 'Gintama: The Movie (2010)']"
   ]
  },
  {
   "cell_type": "code",
   "execution_count": 640,
   "metadata": {},
   "outputs": [
    {
     "data": {
      "text/plain": [
       "  (0, 1011)\\t1.0\\n  (1, 1011)\\t1.0\\n  (2, 1011)\\t1.0\\n  (3, 1011)\\t1.0\\n  (4, 1011)\\t1.0\\n  (5, 1011)\\t1.0\\n  (6, 1011)\\t1.0\\n  (7, 1011)\\t1.0\\n  (8, 1011)\\t1.0\\n  (9, 1011)\\t1.0\\n  (10, 1011)\\t1.0\\n  (11, 1011)\\t1.0\\n  (12, 1011)\\t1.0\\n  (13, 1011)\\t1.0\\n  (14, 1011)\\t1.0\\n  (15, 1011)\\t1.0\\n  (16, 1011)\\t1.0\\n  (17, 1011)\\t1.0\\n  (18, 1011)\\t1.0\\n  (19, 1011)\\t1.0\\n  (20, 1011)\\t1.0\\n  (21, 1011)\\t1.0\\n  (22, 1011)\\t1.0\\n  (23, 1011)\\t1.0\\n  (24, 1011)\\t1.0\\n  :\\t:\\n  (233188, 1141)\\t1.0\\n  (233189, 1141)\\t1.0\\n  (233190, 1141)\\t1.0\\n  (233191, 1141)\\t1.0\\n  (233192, 1141)\\t1.0\\n  (233193, 1141)\\t1.0\\n  (233194, 1141)\\t1.0\\n  (233195, 1141)\\t1.0\\n  (233196, 1141)\\t1.0\\n  (233197, 1141)\\t1.0\\n  (233198, 1141)\\t1.0\\n  (233199, 435)\\t1.0\\n  (233200, 435)\\t1.0\\n  (233201, 435)\\t1.0\\n  (233202, 435)\\t1.0\\n  (233203, 435)\\t1.0\\n  (233204, 1256)\\t1.0\\n  (233205, 1256)\\t1.0\\n  (233206, 1256)\\t1.0\\n  (233207, 1256)\\t1.0\\n  (233208, 1256)\\t1.0\\n  (233209, 75)\\t1.0\\n  (233210, 300)\\t1.0\\n  (233211, 539)\\t1.0\\n  (233212, 1092)\\t1.0    233213\n",
       "Name: tag, dtype: int64"
      ]
     },
     "execution_count": 640,
     "metadata": {},
     "output_type": "execute_result"
    }
   ],
   "source": [
    "movies_with_ratings.tag.value_counts()"
   ]
  },
  {
   "cell_type": "code",
   "execution_count": null,
   "metadata": {},
   "outputs": [],
   "source": [
    "count_vect = CountVectorizer()\n",
    "X_genres = count_vect.fit_transform(movie_genres)"
   ]
  },
  {
   "cell_type": "code",
   "execution_count": null,
   "metadata": {
    "collapsed": true
   },
   "outputs": [],
   "source": [
    "tfidf_transformer = TfidfTransformer()\n",
    "X_tfidf_genres = tfidf_transformer.fit_transform(X_genres)"
   ]
  },
  {
   "cell_type": "code",
   "execution_count": null,
   "metadata": {},
   "outputs": [],
   "source": [
    "X_tfidf_genres.toarray()"
   ]
  },
  {
   "cell_type": "code",
   "execution_count": null,
   "metadata": {},
   "outputs": [],
   "source": [
    "movies_with_ratings.tag.unique()"
   ]
  },
  {
   "cell_type": "code",
   "execution_count": null,
   "metadata": {},
   "outputs": [],
   "source": [
    "tag_strings = []\n",
    "movies = []\n",
    "\n",
    "for movie, group in tqdm_notebook(movies_with_ratings.groupby('title')):\n",
    "    tag_strings.append(' '.join([str(s).replace(' ', '').replace('-', '') for s in group.tag.values]))\n",
    "    movies.append(movie)"
   ]
  },
  {
   "cell_type": "code",
   "execution_count": null,
   "metadata": {},
   "outputs": [],
   "source": [
    "tag_strings[:10]"
   ]
  },
  {
   "cell_type": "code",
   "execution_count": null,
   "metadata": {
    "collapsed": true
   },
   "outputs": [],
   "source": [
    "count_vect = CountVectorizer()\n",
    "X_counts = count_vect.fit_transform(tag_strings)"
   ]
  },
  {
   "cell_type": "code",
   "execution_count": null,
   "metadata": {
    "collapsed": true
   },
   "outputs": [],
   "source": [
    "tfidf_transformer = TfidfTransformer()\n",
    "X_tfidf_tags = tfidf_transformer.fit_transform(X_counts)"
   ]
  },
  {
   "cell_type": "code",
   "execution_count": null,
   "metadata": {
    "collapsed": true
   },
   "outputs": [],
   "source": [
    "X = [X_tfidf_genres, X_tfidf_tags]"
   ]
  },
  {
   "cell_type": "code",
   "execution_count": null,
   "metadata": {},
   "outputs": [],
   "source": [
    "X.shape"
   ]
  },
  {
   "cell_type": "code",
   "execution_count": null,
   "metadata": {
    "collapsed": true
   },
   "outputs": [],
   "source": []
  },
  {
   "cell_type": "code",
   "execution_count": null,
   "metadata": {
    "collapsed": true
   },
   "outputs": [],
   "source": []
  },
  {
   "cell_type": "code",
   "execution_count": null,
   "metadata": {
    "collapsed": true
   },
   "outputs": [],
   "source": []
  },
  {
   "cell_type": "code",
   "execution_count": null,
   "metadata": {
    "collapsed": true
   },
   "outputs": [],
   "source": []
  },
  {
   "cell_type": "code",
   "execution_count": null,
   "metadata": {
    "collapsed": true
   },
   "outputs": [],
   "source": [
    "model.fit(X_train_tfidf_genres)"
   ]
  },
  {
   "cell_type": "code",
   "execution_count": null,
   "metadata": {
    "collapsed": true
   },
   "outputs": [],
   "source": [
    "test = change_string(\"Adventure|Comedy|Fantasy|Crime\")\n",
    "\n",
    "predict = count_vect.transform([test])\n",
    "X_tfidf2 = tfidf_transformer.transform(predict)\n",
    "\n",
    "res = neigh.kneighbors(X_tfidf2, return_distance=True)"
   ]
  },
  {
   "cell_type": "code",
   "execution_count": null,
   "metadata": {},
   "outputs": [],
   "source": [
    "res"
   ]
  },
  {
   "cell_type": "code",
   "execution_count": null,
   "metadata": {},
   "outputs": [],
   "source": [
    "movies.iloc[res[1][0]]"
   ]
  },
  {
   "cell_type": "code",
   "execution_count": null,
   "metadata": {},
   "outputs": [],
   "source": [
    "movies.head()"
   ]
  },
  {
   "cell_type": "code",
   "execution_count": null,
   "metadata": {},
   "outputs": [],
   "source": [
    "tags.head()"
   ]
  },
  {
   "cell_type": "code",
   "execution_count": null,
   "metadata": {
    "collapsed": true
   },
   "outputs": [],
   "source": [
    "movies_with_tags = movies.join(tags.set_index('movieId'), on='movieId')"
   ]
  },
  {
   "cell_type": "code",
   "execution_count": null,
   "metadata": {},
   "outputs": [],
   "source": [
    "movies_with_tags.head()"
   ]
  },
  {
   "cell_type": "code",
   "execution_count": null,
   "metadata": {},
   "outputs": [],
   "source": [
    "movies_with_tags[movies_with_tags.title == 'Toy Story (1995)']"
   ]
  },
  {
   "cell_type": "code",
   "execution_count": null,
   "metadata": {},
   "outputs": [],
   "source": [
    "movies_with_tags.tag.unique()"
   ]
  },
  {
   "cell_type": "code",
   "execution_count": null,
   "metadata": {
    "collapsed": true
   },
   "outputs": [],
   "source": [
    "movies_with_tags.dropna(inplace=True)"
   ]
  },
  {
   "cell_type": "code",
   "execution_count": null,
   "metadata": {},
   "outputs": [],
   "source": [
    "movies_with_tags.title.unique().shape"
   ]
  },
  {
   "cell_type": "code",
   "execution_count": null,
   "metadata": {},
   "outputs": [],
   "source": [
    "tag_strings = []\n",
    "movies = []\n",
    "\n",
    "for movie, group in tqdm_notebook(movies_with_tags.groupby('title')):\n",
    "    tag_strings.append(' '.join([str(s).replace(' ', '').replace('-', '') for s in group.tag.values]))\n",
    "    movies.append(movie)"
   ]
  },
  {
   "cell_type": "code",
   "execution_count": null,
   "metadata": {},
   "outputs": [],
   "source": [
    "tag_strings[:5]"
   ]
  },
  {
   "cell_type": "code",
   "execution_count": null,
   "metadata": {
    "collapsed": true
   },
   "outputs": [],
   "source": [
    "count_vect = CountVectorizer()\n",
    "X_train_counts = count_vect.fit_transform(tag_strings)"
   ]
  },
  {
   "cell_type": "code",
   "execution_count": null,
   "metadata": {
    "collapsed": true
   },
   "outputs": [],
   "source": [
    "tfidf_transformer = TfidfTransformer()\n",
    "X_train_tfidf = tfidf_transformer.fit_transform(X_train_counts)"
   ]
  },
  {
   "cell_type": "code",
   "execution_count": null,
   "metadata": {},
   "outputs": [],
   "source": [
    "neigh = NearestNeighbors(n_neighbors=10, n_jobs=-1, metric='manhattan') \n",
    "neigh.fit(X_train_tfidf)"
   ]
  },
  {
   "cell_type": "code",
   "execution_count": null,
   "metadata": {},
   "outputs": [],
   "source": [
    "for i in range(len(movies)):\n",
    "    if 'Magnolia (1999)' == movies[i]:\n",
    "        print(i)"
   ]
  },
  {
   "cell_type": "code",
   "execution_count": null,
   "metadata": {},
   "outputs": [],
   "source": [
    "tag_strings[822]"
   ]
  },
  {
   "cell_type": "code",
   "execution_count": null,
   "metadata": {
    "collapsed": true
   },
   "outputs": [],
   "source": [
    "test = change_string('pixar pixar fun')\n",
    "\n",
    "predict = count_vect.transform([test])\n",
    "X_tfidf2 = tfidf_transformer.transform(predict)\n",
    "\n",
    "res = neigh.kneighbors(X_tfidf2, return_distance=True)"
   ]
  },
  {
   "cell_type": "code",
   "execution_count": null,
   "metadata": {},
   "outputs": [],
   "source": [
    "res"
   ]
  },
  {
   "cell_type": "code",
   "execution_count": null,
   "metadata": {},
   "outputs": [],
   "source": [
    "for i in res[1][0]:\n",
    "    print(movies[i])"
   ]
  },
  {
   "cell_type": "code",
   "execution_count": null,
   "metadata": {
    "collapsed": true
   },
   "outputs": [],
   "source": []
  },
  {
   "cell_type": "code",
   "execution_count": null,
   "metadata": {
    "collapsed": true
   },
   "outputs": [],
   "source": []
  }
 ],
 "metadata": {
  "kernelspec": {
   "display_name": "Python (other-env)",
   "language": "python",
   "name": "other-env"
  },
  "language_info": {
   "codemirror_mode": {
    "name": "ipython",
    "version": 3
   },
   "file_extension": ".py",
   "mimetype": "text/x-python",
   "name": "python",
   "nbconvert_exporter": "python",
   "pygments_lexer": "ipython3",
   "version": "3.7.1"
  }
 },
 "nbformat": 4,
 "nbformat_minor": 2
}
