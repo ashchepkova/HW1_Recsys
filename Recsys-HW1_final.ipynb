{
 "cells": [
  {
   "cell_type": "code",
   "execution_count": 1,
   "metadata": {
    "collapsed": true
   },
   "outputs": [],
   "source": [
    "import pandas as pd\n",
    "import numpy as np\n",
    "\n",
    "from tqdm import tqdm_notebook\n",
    "\n",
    "from sklearn.feature_extraction.text import TfidfTransformer, CountVectorizer, TfidfVectorizer\n",
    "from sklearn.linear_model import LinearRegression\n",
    "\n",
    "%matplotlib inline"
   ]
  },
  {
   "cell_type": "markdown",
   "metadata": {},
   "source": [
    "    Построить рекомендации (регрессия, предсказываем оценку) на фичах:\n",
    "\n",
    "    TF-IDF на тегах и жанрах\n",
    "    Средние оценки (+ median, variance, etc.) пользователя и фильма\n",
    "\n",
    "    Оценить RMSE на тестовой выборке\n"
   ]
  },
  {
   "cell_type": "code",
   "execution_count": 2,
   "metadata": {
    "collapsed": true
   },
   "outputs": [],
   "source": [
    "links = pd.read_csv('links.csv')\n",
    "movies = pd.read_csv('movies.csv')\n",
    "ratings = pd.read_csv('ratings.csv')\n",
    "tags = pd.read_csv('tags.csv')"
   ]
  },
  {
   "cell_type": "code",
   "execution_count": 3,
   "metadata": {},
   "outputs": [
    {
     "data": {
      "text/html": [
       "<div>\n",
       "<style scoped>\n",
       "    .dataframe tbody tr th:only-of-type {\n",
       "        vertical-align: middle;\n",
       "    }\n",
       "\n",
       "    .dataframe tbody tr th {\n",
       "        vertical-align: top;\n",
       "    }\n",
       "\n",
       "    .dataframe thead th {\n",
       "        text-align: right;\n",
       "    }\n",
       "</style>\n",
       "<table border=\"1\" class=\"dataframe\">\n",
       "  <thead>\n",
       "    <tr style=\"text-align: right;\">\n",
       "      <th></th>\n",
       "      <th>movieId</th>\n",
       "      <th>title</th>\n",
       "      <th>genres</th>\n",
       "      <th>userId</th>\n",
       "      <th>tag</th>\n",
       "      <th>timestamp</th>\n",
       "    </tr>\n",
       "  </thead>\n",
       "  <tbody>\n",
       "    <tr>\n",
       "      <td>0</td>\n",
       "      <td>1</td>\n",
       "      <td>Toy Story (1995)</td>\n",
       "      <td>Adventure|Animation|Children|Comedy|Fantasy</td>\n",
       "      <td>336.0</td>\n",
       "      <td>pixar</td>\n",
       "      <td>1.139046e+09</td>\n",
       "    </tr>\n",
       "    <tr>\n",
       "      <td>1</td>\n",
       "      <td>1</td>\n",
       "      <td>Toy Story (1995)</td>\n",
       "      <td>Adventure|Animation|Children|Comedy|Fantasy</td>\n",
       "      <td>474.0</td>\n",
       "      <td>pixar</td>\n",
       "      <td>1.137207e+09</td>\n",
       "    </tr>\n",
       "    <tr>\n",
       "      <td>2</td>\n",
       "      <td>1</td>\n",
       "      <td>Toy Story (1995)</td>\n",
       "      <td>Adventure|Animation|Children|Comedy|Fantasy</td>\n",
       "      <td>567.0</td>\n",
       "      <td>fun</td>\n",
       "      <td>1.525286e+09</td>\n",
       "    </tr>\n",
       "    <tr>\n",
       "      <td>3</td>\n",
       "      <td>2</td>\n",
       "      <td>Jumanji (1995)</td>\n",
       "      <td>Adventure|Children|Fantasy</td>\n",
       "      <td>62.0</td>\n",
       "      <td>fantasy</td>\n",
       "      <td>1.528844e+09</td>\n",
       "    </tr>\n",
       "    <tr>\n",
       "      <td>4</td>\n",
       "      <td>2</td>\n",
       "      <td>Jumanji (1995)</td>\n",
       "      <td>Adventure|Children|Fantasy</td>\n",
       "      <td>62.0</td>\n",
       "      <td>magic board game</td>\n",
       "      <td>1.528844e+09</td>\n",
       "    </tr>\n",
       "  </tbody>\n",
       "</table>\n",
       "</div>"
      ],
      "text/plain": [
       "   movieId             title                                       genres  \\\n",
       "0        1  Toy Story (1995)  Adventure|Animation|Children|Comedy|Fantasy   \n",
       "1        1  Toy Story (1995)  Adventure|Animation|Children|Comedy|Fantasy   \n",
       "2        1  Toy Story (1995)  Adventure|Animation|Children|Comedy|Fantasy   \n",
       "3        2    Jumanji (1995)                   Adventure|Children|Fantasy   \n",
       "4        2    Jumanji (1995)                   Adventure|Children|Fantasy   \n",
       "\n",
       "   userId               tag     timestamp  \n",
       "0   336.0             pixar  1.139046e+09  \n",
       "1   474.0             pixar  1.137207e+09  \n",
       "2   567.0               fun  1.525286e+09  \n",
       "3    62.0           fantasy  1.528844e+09  \n",
       "4    62.0  magic board game  1.528844e+09  "
      ]
     },
     "execution_count": 3,
     "metadata": {},
     "output_type": "execute_result"
    }
   ],
   "source": [
    "data = pd.merge(movies, tags, on='movieId', how='left')\n",
    "data.head()"
   ]
  },
  {
   "cell_type": "code",
   "execution_count": 4,
   "metadata": {},
   "outputs": [
    {
     "data": {
      "text/html": [
       "<div>\n",
       "<style scoped>\n",
       "    .dataframe tbody tr th:only-of-type {\n",
       "        vertical-align: middle;\n",
       "    }\n",
       "\n",
       "    .dataframe tbody tr th {\n",
       "        vertical-align: top;\n",
       "    }\n",
       "\n",
       "    .dataframe thead th {\n",
       "        text-align: right;\n",
       "    }\n",
       "</style>\n",
       "<table border=\"1\" class=\"dataframe\">\n",
       "  <thead>\n",
       "    <tr style=\"text-align: right;\">\n",
       "      <th></th>\n",
       "      <th>movieId</th>\n",
       "      <th>userId</th>\n",
       "      <th>timestamp</th>\n",
       "    </tr>\n",
       "  </thead>\n",
       "  <tbody>\n",
       "    <tr>\n",
       "      <td>count</td>\n",
       "      <td>11853.000000</td>\n",
       "      <td>3683.000000</td>\n",
       "      <td>3.683000e+03</td>\n",
       "    </tr>\n",
       "    <tr>\n",
       "      <td>mean</td>\n",
       "      <td>40756.628195</td>\n",
       "      <td>431.149335</td>\n",
       "      <td>1.320032e+09</td>\n",
       "    </tr>\n",
       "    <tr>\n",
       "      <td>std</td>\n",
       "      <td>51463.872496</td>\n",
       "      <td>158.472553</td>\n",
       "      <td>1.721025e+08</td>\n",
       "    </tr>\n",
       "    <tr>\n",
       "      <td>min</td>\n",
       "      <td>1.000000</td>\n",
       "      <td>2.000000</td>\n",
       "      <td>1.137179e+09</td>\n",
       "    </tr>\n",
       "    <tr>\n",
       "      <td>25%</td>\n",
       "      <td>2900.000000</td>\n",
       "      <td>424.000000</td>\n",
       "      <td>1.137521e+09</td>\n",
       "    </tr>\n",
       "    <tr>\n",
       "      <td>50%</td>\n",
       "      <td>7022.000000</td>\n",
       "      <td>474.000000</td>\n",
       "      <td>1.269833e+09</td>\n",
       "    </tr>\n",
       "    <tr>\n",
       "      <td>75%</td>\n",
       "      <td>72998.000000</td>\n",
       "      <td>477.000000</td>\n",
       "      <td>1.498457e+09</td>\n",
       "    </tr>\n",
       "    <tr>\n",
       "      <td>max</td>\n",
       "      <td>193609.000000</td>\n",
       "      <td>610.000000</td>\n",
       "      <td>1.537099e+09</td>\n",
       "    </tr>\n",
       "  </tbody>\n",
       "</table>\n",
       "</div>"
      ],
      "text/plain": [
       "             movieId       userId     timestamp\n",
       "count   11853.000000  3683.000000  3.683000e+03\n",
       "mean    40756.628195   431.149335  1.320032e+09\n",
       "std     51463.872496   158.472553  1.721025e+08\n",
       "min         1.000000     2.000000  1.137179e+09\n",
       "25%      2900.000000   424.000000  1.137521e+09\n",
       "50%      7022.000000   474.000000  1.269833e+09\n",
       "75%     72998.000000   477.000000  1.498457e+09\n",
       "max    193609.000000   610.000000  1.537099e+09"
      ]
     },
     "execution_count": 4,
     "metadata": {},
     "output_type": "execute_result"
    }
   ],
   "source": [
    "data.describe()"
   ]
  },
  {
   "cell_type": "code",
   "execution_count": 5,
   "metadata": {},
   "outputs": [
    {
     "data": {
      "text/html": [
       "<div>\n",
       "<style scoped>\n",
       "    .dataframe tbody tr th:only-of-type {\n",
       "        vertical-align: middle;\n",
       "    }\n",
       "\n",
       "    .dataframe tbody tr th {\n",
       "        vertical-align: top;\n",
       "    }\n",
       "\n",
       "    .dataframe thead th {\n",
       "        text-align: right;\n",
       "    }\n",
       "</style>\n",
       "<table border=\"1\" class=\"dataframe\">\n",
       "  <thead>\n",
       "    <tr style=\"text-align: right;\">\n",
       "      <th></th>\n",
       "      <th>movieId</th>\n",
       "      <th>userId</th>\n",
       "      <th>timestamp</th>\n",
       "    </tr>\n",
       "  </thead>\n",
       "  <tbody>\n",
       "    <tr>\n",
       "      <td>count</td>\n",
       "      <td>3683.000000</td>\n",
       "      <td>3683.000000</td>\n",
       "      <td>3.683000e+03</td>\n",
       "    </tr>\n",
       "    <tr>\n",
       "      <td>mean</td>\n",
       "      <td>27252.013576</td>\n",
       "      <td>431.149335</td>\n",
       "      <td>1.320032e+09</td>\n",
       "    </tr>\n",
       "    <tr>\n",
       "      <td>std</td>\n",
       "      <td>43490.558803</td>\n",
       "      <td>158.472553</td>\n",
       "      <td>1.721025e+08</td>\n",
       "    </tr>\n",
       "    <tr>\n",
       "      <td>min</td>\n",
       "      <td>1.000000</td>\n",
       "      <td>2.000000</td>\n",
       "      <td>1.137179e+09</td>\n",
       "    </tr>\n",
       "    <tr>\n",
       "      <td>25%</td>\n",
       "      <td>1262.500000</td>\n",
       "      <td>424.000000</td>\n",
       "      <td>1.137521e+09</td>\n",
       "    </tr>\n",
       "    <tr>\n",
       "      <td>50%</td>\n",
       "      <td>4454.000000</td>\n",
       "      <td>474.000000</td>\n",
       "      <td>1.269833e+09</td>\n",
       "    </tr>\n",
       "    <tr>\n",
       "      <td>75%</td>\n",
       "      <td>39263.000000</td>\n",
       "      <td>477.000000</td>\n",
       "      <td>1.498457e+09</td>\n",
       "    </tr>\n",
       "    <tr>\n",
       "      <td>max</td>\n",
       "      <td>193565.000000</td>\n",
       "      <td>610.000000</td>\n",
       "      <td>1.537099e+09</td>\n",
       "    </tr>\n",
       "  </tbody>\n",
       "</table>\n",
       "</div>"
      ],
      "text/plain": [
       "             movieId       userId     timestamp\n",
       "count    3683.000000  3683.000000  3.683000e+03\n",
       "mean    27252.013576   431.149335  1.320032e+09\n",
       "std     43490.558803   158.472553  1.721025e+08\n",
       "min         1.000000     2.000000  1.137179e+09\n",
       "25%      1262.500000   424.000000  1.137521e+09\n",
       "50%      4454.000000   474.000000  1.269833e+09\n",
       "75%     39263.000000   477.000000  1.498457e+09\n",
       "max    193565.000000   610.000000  1.537099e+09"
      ]
     },
     "execution_count": 5,
     "metadata": {},
     "output_type": "execute_result"
    }
   ],
   "source": [
    "data.dropna(inplace=True)\n",
    "data.describe()"
   ]
  },
  {
   "cell_type": "code",
   "execution_count": 6,
   "metadata": {
    "collapsed": true
   },
   "outputs": [],
   "source": [
    "data = pd.DataFrame(data.groupby('movieId')['tag'].apply(lambda x: \"%s\" % ' '.join(x)))"
   ]
  },
  {
   "cell_type": "code",
   "execution_count": 7,
   "metadata": {},
   "outputs": [
    {
     "data": {
      "text/html": [
       "<div>\n",
       "<style scoped>\n",
       "    .dataframe tbody tr th:only-of-type {\n",
       "        vertical-align: middle;\n",
       "    }\n",
       "\n",
       "    .dataframe tbody tr th {\n",
       "        vertical-align: top;\n",
       "    }\n",
       "\n",
       "    .dataframe thead th {\n",
       "        text-align: right;\n",
       "    }\n",
       "</style>\n",
       "<table border=\"1\" class=\"dataframe\">\n",
       "  <thead>\n",
       "    <tr style=\"text-align: right;\">\n",
       "      <th></th>\n",
       "      <th>tag</th>\n",
       "    </tr>\n",
       "    <tr>\n",
       "      <th>movieId</th>\n",
       "      <th></th>\n",
       "    </tr>\n",
       "  </thead>\n",
       "  <tbody>\n",
       "    <tr>\n",
       "      <td>1</td>\n",
       "      <td>pixar pixar fun</td>\n",
       "    </tr>\n",
       "    <tr>\n",
       "      <td>2</td>\n",
       "      <td>fantasy magic board game Robin Williams game</td>\n",
       "    </tr>\n",
       "    <tr>\n",
       "      <td>3</td>\n",
       "      <td>moldy old</td>\n",
       "    </tr>\n",
       "    <tr>\n",
       "      <td>5</td>\n",
       "      <td>pregnancy remake</td>\n",
       "    </tr>\n",
       "    <tr>\n",
       "      <td>7</td>\n",
       "      <td>remake</td>\n",
       "    </tr>\n",
       "  </tbody>\n",
       "</table>\n",
       "</div>"
      ],
      "text/plain": [
       "                                                  tag\n",
       "movieId                                              \n",
       "1                                     pixar pixar fun\n",
       "2        fantasy magic board game Robin Williams game\n",
       "3                                           moldy old\n",
       "5                                    pregnancy remake\n",
       "7                                              remake"
      ]
     },
     "execution_count": 7,
     "metadata": {},
     "output_type": "execute_result"
    }
   ],
   "source": [
    "data.head()"
   ]
  },
  {
   "cell_type": "code",
   "execution_count": 8,
   "metadata": {
    "collapsed": true
   },
   "outputs": [],
   "source": [
    "df = pd.merge(movies, data, on='movieId', how='left')"
   ]
  },
  {
   "cell_type": "code",
   "execution_count": 9,
   "metadata": {},
   "outputs": [
    {
     "data": {
      "text/html": [
       "<div>\n",
       "<style scoped>\n",
       "    .dataframe tbody tr th:only-of-type {\n",
       "        vertical-align: middle;\n",
       "    }\n",
       "\n",
       "    .dataframe tbody tr th {\n",
       "        vertical-align: top;\n",
       "    }\n",
       "\n",
       "    .dataframe thead th {\n",
       "        text-align: right;\n",
       "    }\n",
       "</style>\n",
       "<table border=\"1\" class=\"dataframe\">\n",
       "  <thead>\n",
       "    <tr style=\"text-align: right;\">\n",
       "      <th></th>\n",
       "      <th>movieId</th>\n",
       "      <th>title</th>\n",
       "      <th>genres</th>\n",
       "      <th>tag</th>\n",
       "    </tr>\n",
       "  </thead>\n",
       "  <tbody>\n",
       "    <tr>\n",
       "      <td>0</td>\n",
       "      <td>1</td>\n",
       "      <td>Toy Story (1995)</td>\n",
       "      <td>Adventure|Animation|Children|Comedy|Fantasy</td>\n",
       "      <td>pixar pixar fun</td>\n",
       "    </tr>\n",
       "    <tr>\n",
       "      <td>1</td>\n",
       "      <td>2</td>\n",
       "      <td>Jumanji (1995)</td>\n",
       "      <td>Adventure|Children|Fantasy</td>\n",
       "      <td>fantasy magic board game Robin Williams game</td>\n",
       "    </tr>\n",
       "    <tr>\n",
       "      <td>2</td>\n",
       "      <td>3</td>\n",
       "      <td>Grumpier Old Men (1995)</td>\n",
       "      <td>Comedy|Romance</td>\n",
       "      <td>moldy old</td>\n",
       "    </tr>\n",
       "    <tr>\n",
       "      <td>3</td>\n",
       "      <td>4</td>\n",
       "      <td>Waiting to Exhale (1995)</td>\n",
       "      <td>Comedy|Drama|Romance</td>\n",
       "      <td>NaN</td>\n",
       "    </tr>\n",
       "    <tr>\n",
       "      <td>4</td>\n",
       "      <td>5</td>\n",
       "      <td>Father of the Bride Part II (1995)</td>\n",
       "      <td>Comedy</td>\n",
       "      <td>pregnancy remake</td>\n",
       "    </tr>\n",
       "  </tbody>\n",
       "</table>\n",
       "</div>"
      ],
      "text/plain": [
       "   movieId                               title  \\\n",
       "0        1                    Toy Story (1995)   \n",
       "1        2                      Jumanji (1995)   \n",
       "2        3             Grumpier Old Men (1995)   \n",
       "3        4            Waiting to Exhale (1995)   \n",
       "4        5  Father of the Bride Part II (1995)   \n",
       "\n",
       "                                        genres  \\\n",
       "0  Adventure|Animation|Children|Comedy|Fantasy   \n",
       "1                   Adventure|Children|Fantasy   \n",
       "2                               Comedy|Romance   \n",
       "3                         Comedy|Drama|Romance   \n",
       "4                                       Comedy   \n",
       "\n",
       "                                            tag  \n",
       "0                               pixar pixar fun  \n",
       "1  fantasy magic board game Robin Williams game  \n",
       "2                                     moldy old  \n",
       "3                                           NaN  \n",
       "4                              pregnancy remake  "
      ]
     },
     "execution_count": 9,
     "metadata": {},
     "output_type": "execute_result"
    }
   ],
   "source": [
    "df.head()"
   ]
  },
  {
   "cell_type": "code",
   "execution_count": 10,
   "metadata": {
    "collapsed": true
   },
   "outputs": [],
   "source": [
    "df.dropna(inplace=True)"
   ]
  },
  {
   "cell_type": "code",
   "execution_count": 11,
   "metadata": {
    "collapsed": true
   },
   "outputs": [],
   "source": [
    "final = pd.merge(df, ratings, on='movieId', how='left')"
   ]
  },
  {
   "cell_type": "code",
   "execution_count": 12,
   "metadata": {},
   "outputs": [
    {
     "data": {
      "text/html": [
       "<div>\n",
       "<style scoped>\n",
       "    .dataframe tbody tr th:only-of-type {\n",
       "        vertical-align: middle;\n",
       "    }\n",
       "\n",
       "    .dataframe tbody tr th {\n",
       "        vertical-align: top;\n",
       "    }\n",
       "\n",
       "    .dataframe thead th {\n",
       "        text-align: right;\n",
       "    }\n",
       "</style>\n",
       "<table border=\"1\" class=\"dataframe\">\n",
       "  <thead>\n",
       "    <tr style=\"text-align: right;\">\n",
       "      <th></th>\n",
       "      <th>movieId</th>\n",
       "      <th>title</th>\n",
       "      <th>genres</th>\n",
       "      <th>tag</th>\n",
       "      <th>userId</th>\n",
       "      <th>rating</th>\n",
       "      <th>timestamp</th>\n",
       "    </tr>\n",
       "  </thead>\n",
       "  <tbody>\n",
       "    <tr>\n",
       "      <td>0</td>\n",
       "      <td>1</td>\n",
       "      <td>Toy Story (1995)</td>\n",
       "      <td>Adventure|Animation|Children|Comedy|Fantasy</td>\n",
       "      <td>pixar pixar fun</td>\n",
       "      <td>1.0</td>\n",
       "      <td>4.0</td>\n",
       "      <td>9.649827e+08</td>\n",
       "    </tr>\n",
       "    <tr>\n",
       "      <td>1</td>\n",
       "      <td>1</td>\n",
       "      <td>Toy Story (1995)</td>\n",
       "      <td>Adventure|Animation|Children|Comedy|Fantasy</td>\n",
       "      <td>pixar pixar fun</td>\n",
       "      <td>5.0</td>\n",
       "      <td>4.0</td>\n",
       "      <td>8.474350e+08</td>\n",
       "    </tr>\n",
       "    <tr>\n",
       "      <td>2</td>\n",
       "      <td>1</td>\n",
       "      <td>Toy Story (1995)</td>\n",
       "      <td>Adventure|Animation|Children|Comedy|Fantasy</td>\n",
       "      <td>pixar pixar fun</td>\n",
       "      <td>7.0</td>\n",
       "      <td>4.5</td>\n",
       "      <td>1.106636e+09</td>\n",
       "    </tr>\n",
       "    <tr>\n",
       "      <td>3</td>\n",
       "      <td>1</td>\n",
       "      <td>Toy Story (1995)</td>\n",
       "      <td>Adventure|Animation|Children|Comedy|Fantasy</td>\n",
       "      <td>pixar pixar fun</td>\n",
       "      <td>15.0</td>\n",
       "      <td>2.5</td>\n",
       "      <td>1.510578e+09</td>\n",
       "    </tr>\n",
       "    <tr>\n",
       "      <td>4</td>\n",
       "      <td>1</td>\n",
       "      <td>Toy Story (1995)</td>\n",
       "      <td>Adventure|Animation|Children|Comedy|Fantasy</td>\n",
       "      <td>pixar pixar fun</td>\n",
       "      <td>17.0</td>\n",
       "      <td>4.5</td>\n",
       "      <td>1.305696e+09</td>\n",
       "    </tr>\n",
       "  </tbody>\n",
       "</table>\n",
       "</div>"
      ],
      "text/plain": [
       "   movieId             title                                       genres  \\\n",
       "0        1  Toy Story (1995)  Adventure|Animation|Children|Comedy|Fantasy   \n",
       "1        1  Toy Story (1995)  Adventure|Animation|Children|Comedy|Fantasy   \n",
       "2        1  Toy Story (1995)  Adventure|Animation|Children|Comedy|Fantasy   \n",
       "3        1  Toy Story (1995)  Adventure|Animation|Children|Comedy|Fantasy   \n",
       "4        1  Toy Story (1995)  Adventure|Animation|Children|Comedy|Fantasy   \n",
       "\n",
       "               tag  userId  rating     timestamp  \n",
       "0  pixar pixar fun     1.0     4.0  9.649827e+08  \n",
       "1  pixar pixar fun     5.0     4.0  8.474350e+08  \n",
       "2  pixar pixar fun     7.0     4.5  1.106636e+09  \n",
       "3  pixar pixar fun    15.0     2.5  1.510578e+09  \n",
       "4  pixar pixar fun    17.0     4.5  1.305696e+09  "
      ]
     },
     "execution_count": 12,
     "metadata": {},
     "output_type": "execute_result"
    }
   ],
   "source": [
    "final.head()"
   ]
  },
  {
   "cell_type": "code",
   "execution_count": 13,
   "metadata": {},
   "outputs": [
    {
     "data": {
      "text/html": [
       "<div>\n",
       "<style scoped>\n",
       "    .dataframe tbody tr th:only-of-type {\n",
       "        vertical-align: middle;\n",
       "    }\n",
       "\n",
       "    .dataframe tbody tr th {\n",
       "        vertical-align: top;\n",
       "    }\n",
       "\n",
       "    .dataframe thead th {\n",
       "        text-align: right;\n",
       "    }\n",
       "</style>\n",
       "<table border=\"1\" class=\"dataframe\">\n",
       "  <thead>\n",
       "    <tr style=\"text-align: right;\">\n",
       "      <th></th>\n",
       "      <th>movieId</th>\n",
       "      <th>title</th>\n",
       "      <th>genres</th>\n",
       "      <th>tag</th>\n",
       "      <th>userId</th>\n",
       "      <th>rating</th>\n",
       "      <th>timestamp</th>\n",
       "    </tr>\n",
       "  </thead>\n",
       "  <tbody>\n",
       "    <tr>\n",
       "      <td>0</td>\n",
       "      <td>1</td>\n",
       "      <td>Toy Story (1995)</td>\n",
       "      <td>Adventure|Animation|Children|Comedy|Fantasy</td>\n",
       "      <td>pixar pixar fun</td>\n",
       "      <td>1.0</td>\n",
       "      <td>4.0</td>\n",
       "      <td>9.649827e+08</td>\n",
       "    </tr>\n",
       "    <tr>\n",
       "      <td>1</td>\n",
       "      <td>1</td>\n",
       "      <td>Toy Story (1995)</td>\n",
       "      <td>Adventure|Animation|Children|Comedy|Fantasy</td>\n",
       "      <td>pixar pixar fun</td>\n",
       "      <td>5.0</td>\n",
       "      <td>4.0</td>\n",
       "      <td>8.474350e+08</td>\n",
       "    </tr>\n",
       "    <tr>\n",
       "      <td>2</td>\n",
       "      <td>1</td>\n",
       "      <td>Toy Story (1995)</td>\n",
       "      <td>Adventure|Animation|Children|Comedy|Fantasy</td>\n",
       "      <td>pixar pixar fun</td>\n",
       "      <td>7.0</td>\n",
       "      <td>4.5</td>\n",
       "      <td>1.106636e+09</td>\n",
       "    </tr>\n",
       "    <tr>\n",
       "      <td>3</td>\n",
       "      <td>1</td>\n",
       "      <td>Toy Story (1995)</td>\n",
       "      <td>Adventure|Animation|Children|Comedy|Fantasy</td>\n",
       "      <td>pixar pixar fun</td>\n",
       "      <td>15.0</td>\n",
       "      <td>2.5</td>\n",
       "      <td>1.510578e+09</td>\n",
       "    </tr>\n",
       "    <tr>\n",
       "      <td>4</td>\n",
       "      <td>1</td>\n",
       "      <td>Toy Story (1995)</td>\n",
       "      <td>Adventure|Animation|Children|Comedy|Fantasy</td>\n",
       "      <td>pixar pixar fun</td>\n",
       "      <td>17.0</td>\n",
       "      <td>4.5</td>\n",
       "      <td>1.305696e+09</td>\n",
       "    </tr>\n",
       "  </tbody>\n",
       "</table>\n",
       "</div>"
      ],
      "text/plain": [
       "   movieId             title                                       genres  \\\n",
       "0        1  Toy Story (1995)  Adventure|Animation|Children|Comedy|Fantasy   \n",
       "1        1  Toy Story (1995)  Adventure|Animation|Children|Comedy|Fantasy   \n",
       "2        1  Toy Story (1995)  Adventure|Animation|Children|Comedy|Fantasy   \n",
       "3        1  Toy Story (1995)  Adventure|Animation|Children|Comedy|Fantasy   \n",
       "4        1  Toy Story (1995)  Adventure|Animation|Children|Comedy|Fantasy   \n",
       "\n",
       "               tag  userId  rating     timestamp  \n",
       "0  pixar pixar fun     1.0     4.0  9.649827e+08  \n",
       "1  pixar pixar fun     5.0     4.0  8.474350e+08  \n",
       "2  pixar pixar fun     7.0     4.5  1.106636e+09  \n",
       "3  pixar pixar fun    15.0     2.5  1.510578e+09  \n",
       "4  pixar pixar fun    17.0     4.5  1.305696e+09  "
      ]
     },
     "execution_count": 13,
     "metadata": {},
     "output_type": "execute_result"
    }
   ],
   "source": [
    "final.head()"
   ]
  },
  {
   "cell_type": "code",
   "execution_count": 14,
   "metadata": {},
   "outputs": [
    {
     "data": {
      "text/plain": [
       "movieId\n",
       "1    4.0\n",
       "2    3.5\n",
       "3    3.0\n",
       "5    3.0\n",
       "7    3.0\n",
       "Name: rating, dtype: float64"
      ]
     },
     "execution_count": 14,
     "metadata": {},
     "output_type": "execute_result"
    }
   ],
   "source": [
    "median_rating = final.groupby('movieId').rating.median()\n",
    "median_rating.head()"
   ]
  },
  {
   "cell_type": "code",
   "execution_count": 15,
   "metadata": {},
   "outputs": [
    {
     "data": {
      "text/plain": [
       "count    1554.000000\n",
       "mean        3.715573\n",
       "std         0.556692\n",
       "min         0.500000\n",
       "25%         3.500000\n",
       "50%         4.000000\n",
       "75%         4.000000\n",
       "max         5.000000\n",
       "Name: rating, dtype: float64"
      ]
     },
     "execution_count": 15,
     "metadata": {},
     "output_type": "execute_result"
    }
   ],
   "source": [
    "median_rating.describe()"
   ]
  },
  {
   "cell_type": "code",
   "execution_count": 16,
   "metadata": {},
   "outputs": [
    {
     "data": {
      "text/plain": [
       "movieId\n",
       "1         False\n",
       "2         False\n",
       "3         False\n",
       "5         False\n",
       "7         False\n",
       "          ...  \n",
       "183611    False\n",
       "184471    False\n",
       "187593    False\n",
       "187595    False\n",
       "193565    False\n",
       "Name: rating, Length: 1572, dtype: bool"
      ]
     },
     "execution_count": 16,
     "metadata": {},
     "output_type": "execute_result"
    }
   ],
   "source": [
    "median_rating.isnull()"
   ]
  },
  {
   "cell_type": "code",
   "execution_count": 17,
   "metadata": {},
   "outputs": [
    {
     "data": {
      "text/plain": [
       "0"
      ]
     },
     "execution_count": 17,
     "metadata": {},
     "output_type": "execute_result"
    }
   ],
   "source": [
    "median_rating [:] = np.nan_to_num(median_rating)\n",
    "np.isnan(median_rating).sum()"
   ]
  },
  {
   "cell_type": "code",
   "execution_count": 18,
   "metadata": {},
   "outputs": [],
   "source": [
    "final = pd.merge(final, median_rating, on='movieId', how='left')"
   ]
  },
  {
   "cell_type": "code",
   "execution_count": 19,
   "metadata": {},
   "outputs": [
    {
     "data": {
      "text/html": [
       "<div>\n",
       "<style scoped>\n",
       "    .dataframe tbody tr th:only-of-type {\n",
       "        vertical-align: middle;\n",
       "    }\n",
       "\n",
       "    .dataframe tbody tr th {\n",
       "        vertical-align: top;\n",
       "    }\n",
       "\n",
       "    .dataframe thead th {\n",
       "        text-align: right;\n",
       "    }\n",
       "</style>\n",
       "<table border=\"1\" class=\"dataframe\">\n",
       "  <thead>\n",
       "    <tr style=\"text-align: right;\">\n",
       "      <th></th>\n",
       "      <th>movieId</th>\n",
       "      <th>title</th>\n",
       "      <th>genres</th>\n",
       "      <th>tag</th>\n",
       "      <th>userId</th>\n",
       "      <th>rating_x</th>\n",
       "      <th>timestamp</th>\n",
       "      <th>rating_y</th>\n",
       "    </tr>\n",
       "  </thead>\n",
       "  <tbody>\n",
       "    <tr>\n",
       "      <td>0</td>\n",
       "      <td>1</td>\n",
       "      <td>Toy Story (1995)</td>\n",
       "      <td>Adventure|Animation|Children|Comedy|Fantasy</td>\n",
       "      <td>pixar pixar fun</td>\n",
       "      <td>1.0</td>\n",
       "      <td>4.0</td>\n",
       "      <td>9.649827e+08</td>\n",
       "      <td>4.0</td>\n",
       "    </tr>\n",
       "    <tr>\n",
       "      <td>1</td>\n",
       "      <td>1</td>\n",
       "      <td>Toy Story (1995)</td>\n",
       "      <td>Adventure|Animation|Children|Comedy|Fantasy</td>\n",
       "      <td>pixar pixar fun</td>\n",
       "      <td>5.0</td>\n",
       "      <td>4.0</td>\n",
       "      <td>8.474350e+08</td>\n",
       "      <td>4.0</td>\n",
       "    </tr>\n",
       "    <tr>\n",
       "      <td>2</td>\n",
       "      <td>1</td>\n",
       "      <td>Toy Story (1995)</td>\n",
       "      <td>Adventure|Animation|Children|Comedy|Fantasy</td>\n",
       "      <td>pixar pixar fun</td>\n",
       "      <td>7.0</td>\n",
       "      <td>4.5</td>\n",
       "      <td>1.106636e+09</td>\n",
       "      <td>4.0</td>\n",
       "    </tr>\n",
       "    <tr>\n",
       "      <td>3</td>\n",
       "      <td>1</td>\n",
       "      <td>Toy Story (1995)</td>\n",
       "      <td>Adventure|Animation|Children|Comedy|Fantasy</td>\n",
       "      <td>pixar pixar fun</td>\n",
       "      <td>15.0</td>\n",
       "      <td>2.5</td>\n",
       "      <td>1.510578e+09</td>\n",
       "      <td>4.0</td>\n",
       "    </tr>\n",
       "    <tr>\n",
       "      <td>4</td>\n",
       "      <td>1</td>\n",
       "      <td>Toy Story (1995)</td>\n",
       "      <td>Adventure|Animation|Children|Comedy|Fantasy</td>\n",
       "      <td>pixar pixar fun</td>\n",
       "      <td>17.0</td>\n",
       "      <td>4.5</td>\n",
       "      <td>1.305696e+09</td>\n",
       "      <td>4.0</td>\n",
       "    </tr>\n",
       "  </tbody>\n",
       "</table>\n",
       "</div>"
      ],
      "text/plain": [
       "   movieId             title                                       genres  \\\n",
       "0        1  Toy Story (1995)  Adventure|Animation|Children|Comedy|Fantasy   \n",
       "1        1  Toy Story (1995)  Adventure|Animation|Children|Comedy|Fantasy   \n",
       "2        1  Toy Story (1995)  Adventure|Animation|Children|Comedy|Fantasy   \n",
       "3        1  Toy Story (1995)  Adventure|Animation|Children|Comedy|Fantasy   \n",
       "4        1  Toy Story (1995)  Adventure|Animation|Children|Comedy|Fantasy   \n",
       "\n",
       "               tag  userId  rating_x     timestamp  rating_y  \n",
       "0  pixar pixar fun     1.0       4.0  9.649827e+08       4.0  \n",
       "1  pixar pixar fun     5.0       4.0  8.474350e+08       4.0  \n",
       "2  pixar pixar fun     7.0       4.5  1.106636e+09       4.0  \n",
       "3  pixar pixar fun    15.0       2.5  1.510578e+09       4.0  \n",
       "4  pixar pixar fun    17.0       4.5  1.305696e+09       4.0  "
      ]
     },
     "execution_count": 19,
     "metadata": {},
     "output_type": "execute_result"
    }
   ],
   "source": [
    "final.head()"
   ]
  },
  {
   "cell_type": "code",
   "execution_count": 20,
   "metadata": {
    "collapsed": true
   },
   "outputs": [],
   "source": [
    "def change_string(s):\n",
    "    return ' '.join(s.replace(' ', '').replace('-', '').split('|'))"
   ]
  },
  {
   "cell_type": "code",
   "execution_count": 21,
   "metadata": {
    "collapsed": true
   },
   "outputs": [],
   "source": [
    "vectorizer = TfidfVectorizer(stop_words = 'english')"
   ]
  },
  {
   "cell_type": "code",
   "execution_count": 22,
   "metadata": {
    "collapsed": true
   },
   "outputs": [],
   "source": [
    "final['genres'] = final['genres'].apply(change_string)"
   ]
  },
  {
   "cell_type": "code",
   "execution_count": 23,
   "metadata": {},
   "outputs": [
    {
     "data": {
      "text/html": [
       "<div>\n",
       "<style scoped>\n",
       "    .dataframe tbody tr th:only-of-type {\n",
       "        vertical-align: middle;\n",
       "    }\n",
       "\n",
       "    .dataframe tbody tr th {\n",
       "        vertical-align: top;\n",
       "    }\n",
       "\n",
       "    .dataframe thead th {\n",
       "        text-align: right;\n",
       "    }\n",
       "</style>\n",
       "<table border=\"1\" class=\"dataframe\">\n",
       "  <thead>\n",
       "    <tr style=\"text-align: right;\">\n",
       "      <th></th>\n",
       "      <th>movieId</th>\n",
       "      <th>title</th>\n",
       "      <th>genres</th>\n",
       "      <th>tag</th>\n",
       "      <th>userId</th>\n",
       "      <th>rating_x</th>\n",
       "      <th>timestamp</th>\n",
       "      <th>rating_y</th>\n",
       "    </tr>\n",
       "  </thead>\n",
       "  <tbody>\n",
       "    <tr>\n",
       "      <td>48299</td>\n",
       "      <td>187595</td>\n",
       "      <td>Solo: A Star Wars Story (2018)</td>\n",
       "      <td>Action Adventure Children SciFi</td>\n",
       "      <td>Emilia Clarke star wars</td>\n",
       "      <td>62.0</td>\n",
       "      <td>4.0</td>\n",
       "      <td>1.528935e+09</td>\n",
       "      <td>4.0</td>\n",
       "    </tr>\n",
       "    <tr>\n",
       "      <td>48300</td>\n",
       "      <td>187595</td>\n",
       "      <td>Solo: A Star Wars Story (2018)</td>\n",
       "      <td>Action Adventure Children SciFi</td>\n",
       "      <td>Emilia Clarke star wars</td>\n",
       "      <td>380.0</td>\n",
       "      <td>4.0</td>\n",
       "      <td>1.536873e+09</td>\n",
       "      <td>4.0</td>\n",
       "    </tr>\n",
       "    <tr>\n",
       "      <td>48301</td>\n",
       "      <td>187595</td>\n",
       "      <td>Solo: A Star Wars Story (2018)</td>\n",
       "      <td>Action Adventure Children SciFi</td>\n",
       "      <td>Emilia Clarke star wars</td>\n",
       "      <td>414.0</td>\n",
       "      <td>3.5</td>\n",
       "      <td>1.527978e+09</td>\n",
       "      <td>4.0</td>\n",
       "    </tr>\n",
       "    <tr>\n",
       "      <td>48302</td>\n",
       "      <td>187595</td>\n",
       "      <td>Solo: A Star Wars Story (2018)</td>\n",
       "      <td>Action Adventure Children SciFi</td>\n",
       "      <td>Emilia Clarke star wars</td>\n",
       "      <td>514.0</td>\n",
       "      <td>3.0</td>\n",
       "      <td>1.537675e+09</td>\n",
       "      <td>4.0</td>\n",
       "    </tr>\n",
       "    <tr>\n",
       "      <td>48303</td>\n",
       "      <td>187595</td>\n",
       "      <td>Solo: A Star Wars Story (2018)</td>\n",
       "      <td>Action Adventure Children SciFi</td>\n",
       "      <td>Emilia Clarke star wars</td>\n",
       "      <td>586.0</td>\n",
       "      <td>5.0</td>\n",
       "      <td>1.529900e+09</td>\n",
       "      <td>4.0</td>\n",
       "    </tr>\n",
       "  </tbody>\n",
       "</table>\n",
       "</div>"
      ],
      "text/plain": [
       "       movieId                           title  \\\n",
       "48299   187595  Solo: A Star Wars Story (2018)   \n",
       "48300   187595  Solo: A Star Wars Story (2018)   \n",
       "48301   187595  Solo: A Star Wars Story (2018)   \n",
       "48302   187595  Solo: A Star Wars Story (2018)   \n",
       "48303   187595  Solo: A Star Wars Story (2018)   \n",
       "\n",
       "                                genres                      tag  userId  \\\n",
       "48299  Action Adventure Children SciFi  Emilia Clarke star wars    62.0   \n",
       "48300  Action Adventure Children SciFi  Emilia Clarke star wars   380.0   \n",
       "48301  Action Adventure Children SciFi  Emilia Clarke star wars   414.0   \n",
       "48302  Action Adventure Children SciFi  Emilia Clarke star wars   514.0   \n",
       "48303  Action Adventure Children SciFi  Emilia Clarke star wars   586.0   \n",
       "\n",
       "       rating_x     timestamp  rating_y  \n",
       "48299       4.0  1.528935e+09       4.0  \n",
       "48300       4.0  1.536873e+09       4.0  \n",
       "48301       3.5  1.527978e+09       4.0  \n",
       "48302       3.0  1.537675e+09       4.0  \n",
       "48303       5.0  1.529900e+09       4.0  "
      ]
     },
     "execution_count": 23,
     "metadata": {},
     "output_type": "execute_result"
    }
   ],
   "source": [
    "final[final.title == 'Solo: A Star Wars Story (2018)']"
   ]
  },
  {
   "cell_type": "code",
   "execution_count": 24,
   "metadata": {},
   "outputs": [
    {
     "data": {
      "text/plain": [
       "0        Adventure Animation Children Comedy Fantasy\n",
       "1        Adventure Animation Children Comedy Fantasy\n",
       "2        Adventure Animation Children Comedy Fantasy\n",
       "3        Adventure Animation Children Comedy Fantasy\n",
       "4        Adventure Animation Children Comedy Fantasy\n",
       "                            ...                     \n",
       "48300                Action Adventure Children SciFi\n",
       "48301                Action Adventure Children SciFi\n",
       "48302                Action Adventure Children SciFi\n",
       "48303                Action Adventure Children SciFi\n",
       "48304                  Action Animation Comedy SciFi\n",
       "Name: genres, Length: 48305, dtype: object"
      ]
     },
     "execution_count": 24,
     "metadata": {},
     "output_type": "execute_result"
    }
   ],
   "source": [
    "final['genres']"
   ]
  },
  {
   "cell_type": "code",
   "execution_count": 25,
   "metadata": {
    "collapsed": true
   },
   "outputs": [],
   "source": [
    "tfidf_matrix = vectorizer.fit_transform(final['genres'])"
   ]
  },
  {
   "cell_type": "code",
   "execution_count": 26,
   "metadata": {},
   "outputs": [
    {
     "name": "stdout",
     "output_type": "stream",
     "text": [
      "(48305, 20)\n"
     ]
    }
   ],
   "source": [
    "tfidf_df = pd.DataFrame(tfidf_matrix.toarray(), index=final.index.tolist())\n",
    "print(tfidf_df.shape)"
   ]
  },
  {
   "cell_type": "code",
   "execution_count": 27,
   "metadata": {},
   "outputs": [
    {
     "name": "stdout",
     "output_type": "stream",
     "text": [
      "(48305, 8)\n"
     ]
    }
   ],
   "source": [
    "print(final.shape)"
   ]
  },
  {
   "cell_type": "code",
   "execution_count": 28,
   "metadata": {
    "collapsed": true
   },
   "outputs": [],
   "source": [
    "tfidf_matrix2 = vectorizer.fit_transform(final['tag'])"
   ]
  },
  {
   "cell_type": "code",
   "execution_count": 29,
   "metadata": {},
   "outputs": [
    {
     "name": "stdout",
     "output_type": "stream",
     "text": [
      "(48305, 1673)\n"
     ]
    }
   ],
   "source": [
    "tfidf_df2 = pd.DataFrame(tfidf_matrix2.toarray(), index=final.index.tolist())\n",
    "print(tfidf_df2.shape)"
   ]
  },
  {
   "cell_type": "code",
   "execution_count": 30,
   "metadata": {
    "collapsed": true
   },
   "outputs": [],
   "source": [
    "from sklearn.decomposition import TruncatedSVD\n",
    "svd = TruncatedSVD(n_components=200)\n",
    "latent_matrix = svd.fit_transform(tfidf_df2)"
   ]
  },
  {
   "cell_type": "code",
   "execution_count": 31,
   "metadata": {},
   "outputs": [
    {
     "data": {
      "text/plain": [
       "(48305, 200)"
      ]
     },
     "execution_count": 31,
     "metadata": {},
     "output_type": "execute_result"
    }
   ],
   "source": [
    "latent_matrix.shape"
   ]
  },
  {
   "cell_type": "code",
   "execution_count": 32,
   "metadata": {
    "collapsed": true
   },
   "outputs": [],
   "source": [
    "tfidf2_svd = pd.DataFrame(latent_matrix, index=final.index.tolist())"
   ]
  },
  {
   "cell_type": "code",
   "execution_count": 33,
   "metadata": {
    "collapsed": true
   },
   "outputs": [],
   "source": [
    "datasets = [final, tfidf_df, tfidf2_svd]"
   ]
  },
  {
   "cell_type": "code",
   "execution_count": 34,
   "metadata": {},
   "outputs": [
    {
     "data": {
      "text/html": [
       "<div>\n",
       "<style scoped>\n",
       "    .dataframe tbody tr th:only-of-type {\n",
       "        vertical-align: middle;\n",
       "    }\n",
       "\n",
       "    .dataframe tbody tr th {\n",
       "        vertical-align: top;\n",
       "    }\n",
       "\n",
       "    .dataframe thead th {\n",
       "        text-align: right;\n",
       "    }\n",
       "</style>\n",
       "<table border=\"1\" class=\"dataframe\">\n",
       "  <thead>\n",
       "    <tr style=\"text-align: right;\">\n",
       "      <th></th>\n",
       "      <th>movieId</th>\n",
       "      <th>title</th>\n",
       "      <th>genres</th>\n",
       "      <th>tag</th>\n",
       "      <th>userId</th>\n",
       "      <th>rating_x</th>\n",
       "      <th>timestamp</th>\n",
       "      <th>rating_y</th>\n",
       "      <th>0</th>\n",
       "      <th>1</th>\n",
       "      <th>...</th>\n",
       "      <th>190</th>\n",
       "      <th>191</th>\n",
       "      <th>192</th>\n",
       "      <th>193</th>\n",
       "      <th>194</th>\n",
       "      <th>195</th>\n",
       "      <th>196</th>\n",
       "      <th>197</th>\n",
       "      <th>198</th>\n",
       "      <th>199</th>\n",
       "    </tr>\n",
       "  </thead>\n",
       "  <tbody>\n",
       "    <tr>\n",
       "      <td>0</td>\n",
       "      <td>1</td>\n",
       "      <td>Toy Story (1995)</td>\n",
       "      <td>Adventure Animation Children Comedy Fantasy</td>\n",
       "      <td>pixar pixar fun</td>\n",
       "      <td>1.0</td>\n",
       "      <td>4.0</td>\n",
       "      <td>9.649827e+08</td>\n",
       "      <td>4.0</td>\n",
       "      <td>0.0</td>\n",
       "      <td>0.36091</td>\n",
       "      <td>...</td>\n",
       "      <td>-0.003922</td>\n",
       "      <td>-0.005394</td>\n",
       "      <td>0.004074</td>\n",
       "      <td>0.009771</td>\n",
       "      <td>-0.008932</td>\n",
       "      <td>-0.013815</td>\n",
       "      <td>-0.003918</td>\n",
       "      <td>0.01523</td>\n",
       "      <td>0.004673</td>\n",
       "      <td>-0.002139</td>\n",
       "    </tr>\n",
       "    <tr>\n",
       "      <td>1</td>\n",
       "      <td>1</td>\n",
       "      <td>Toy Story (1995)</td>\n",
       "      <td>Adventure Animation Children Comedy Fantasy</td>\n",
       "      <td>pixar pixar fun</td>\n",
       "      <td>5.0</td>\n",
       "      <td>4.0</td>\n",
       "      <td>8.474350e+08</td>\n",
       "      <td>4.0</td>\n",
       "      <td>0.0</td>\n",
       "      <td>0.36091</td>\n",
       "      <td>...</td>\n",
       "      <td>-0.003922</td>\n",
       "      <td>-0.005394</td>\n",
       "      <td>0.004074</td>\n",
       "      <td>0.009771</td>\n",
       "      <td>-0.008932</td>\n",
       "      <td>-0.013815</td>\n",
       "      <td>-0.003918</td>\n",
       "      <td>0.01523</td>\n",
       "      <td>0.004673</td>\n",
       "      <td>-0.002139</td>\n",
       "    </tr>\n",
       "    <tr>\n",
       "      <td>2</td>\n",
       "      <td>1</td>\n",
       "      <td>Toy Story (1995)</td>\n",
       "      <td>Adventure Animation Children Comedy Fantasy</td>\n",
       "      <td>pixar pixar fun</td>\n",
       "      <td>7.0</td>\n",
       "      <td>4.5</td>\n",
       "      <td>1.106636e+09</td>\n",
       "      <td>4.0</td>\n",
       "      <td>0.0</td>\n",
       "      <td>0.36091</td>\n",
       "      <td>...</td>\n",
       "      <td>-0.003922</td>\n",
       "      <td>-0.005394</td>\n",
       "      <td>0.004074</td>\n",
       "      <td>0.009771</td>\n",
       "      <td>-0.008932</td>\n",
       "      <td>-0.013815</td>\n",
       "      <td>-0.003918</td>\n",
       "      <td>0.01523</td>\n",
       "      <td>0.004673</td>\n",
       "      <td>-0.002139</td>\n",
       "    </tr>\n",
       "    <tr>\n",
       "      <td>3</td>\n",
       "      <td>1</td>\n",
       "      <td>Toy Story (1995)</td>\n",
       "      <td>Adventure Animation Children Comedy Fantasy</td>\n",
       "      <td>pixar pixar fun</td>\n",
       "      <td>15.0</td>\n",
       "      <td>2.5</td>\n",
       "      <td>1.510578e+09</td>\n",
       "      <td>4.0</td>\n",
       "      <td>0.0</td>\n",
       "      <td>0.36091</td>\n",
       "      <td>...</td>\n",
       "      <td>-0.003922</td>\n",
       "      <td>-0.005394</td>\n",
       "      <td>0.004074</td>\n",
       "      <td>0.009771</td>\n",
       "      <td>-0.008932</td>\n",
       "      <td>-0.013815</td>\n",
       "      <td>-0.003918</td>\n",
       "      <td>0.01523</td>\n",
       "      <td>0.004673</td>\n",
       "      <td>-0.002139</td>\n",
       "    </tr>\n",
       "    <tr>\n",
       "      <td>4</td>\n",
       "      <td>1</td>\n",
       "      <td>Toy Story (1995)</td>\n",
       "      <td>Adventure Animation Children Comedy Fantasy</td>\n",
       "      <td>pixar pixar fun</td>\n",
       "      <td>17.0</td>\n",
       "      <td>4.5</td>\n",
       "      <td>1.305696e+09</td>\n",
       "      <td>4.0</td>\n",
       "      <td>0.0</td>\n",
       "      <td>0.36091</td>\n",
       "      <td>...</td>\n",
       "      <td>-0.003922</td>\n",
       "      <td>-0.005394</td>\n",
       "      <td>0.004074</td>\n",
       "      <td>0.009771</td>\n",
       "      <td>-0.008932</td>\n",
       "      <td>-0.013815</td>\n",
       "      <td>-0.003918</td>\n",
       "      <td>0.01523</td>\n",
       "      <td>0.004673</td>\n",
       "      <td>-0.002139</td>\n",
       "    </tr>\n",
       "  </tbody>\n",
       "</table>\n",
       "<p>5 rows × 228 columns</p>\n",
       "</div>"
      ],
      "text/plain": [
       "   movieId             title                                       genres  \\\n",
       "0        1  Toy Story (1995)  Adventure Animation Children Comedy Fantasy   \n",
       "1        1  Toy Story (1995)  Adventure Animation Children Comedy Fantasy   \n",
       "2        1  Toy Story (1995)  Adventure Animation Children Comedy Fantasy   \n",
       "3        1  Toy Story (1995)  Adventure Animation Children Comedy Fantasy   \n",
       "4        1  Toy Story (1995)  Adventure Animation Children Comedy Fantasy   \n",
       "\n",
       "               tag  userId  rating_x     timestamp  rating_y    0        1  \\\n",
       "0  pixar pixar fun     1.0       4.0  9.649827e+08       4.0  0.0  0.36091   \n",
       "1  pixar pixar fun     5.0       4.0  8.474350e+08       4.0  0.0  0.36091   \n",
       "2  pixar pixar fun     7.0       4.5  1.106636e+09       4.0  0.0  0.36091   \n",
       "3  pixar pixar fun    15.0       2.5  1.510578e+09       4.0  0.0  0.36091   \n",
       "4  pixar pixar fun    17.0       4.5  1.305696e+09       4.0  0.0  0.36091   \n",
       "\n",
       "   ...       190       191       192       193       194       195       196  \\\n",
       "0  ... -0.003922 -0.005394  0.004074  0.009771 -0.008932 -0.013815 -0.003918   \n",
       "1  ... -0.003922 -0.005394  0.004074  0.009771 -0.008932 -0.013815 -0.003918   \n",
       "2  ... -0.003922 -0.005394  0.004074  0.009771 -0.008932 -0.013815 -0.003918   \n",
       "3  ... -0.003922 -0.005394  0.004074  0.009771 -0.008932 -0.013815 -0.003918   \n",
       "4  ... -0.003922 -0.005394  0.004074  0.009771 -0.008932 -0.013815 -0.003918   \n",
       "\n",
       "       197       198       199  \n",
       "0  0.01523  0.004673 -0.002139  \n",
       "1  0.01523  0.004673 -0.002139  \n",
       "2  0.01523  0.004673 -0.002139  \n",
       "3  0.01523  0.004673 -0.002139  \n",
       "4  0.01523  0.004673 -0.002139  \n",
       "\n",
       "[5 rows x 228 columns]"
      ]
     },
     "execution_count": 34,
     "metadata": {},
     "output_type": "execute_result"
    }
   ],
   "source": [
    "result = pd.concat(datasets, axis = 1)\n",
    "result.head()"
   ]
  },
  {
   "cell_type": "code",
   "execution_count": 35,
   "metadata": {},
   "outputs": [
    {
     "data": {
      "text/html": [
       "<div>\n",
       "<style scoped>\n",
       "    .dataframe tbody tr th:only-of-type {\n",
       "        vertical-align: middle;\n",
       "    }\n",
       "\n",
       "    .dataframe tbody tr th {\n",
       "        vertical-align: top;\n",
       "    }\n",
       "\n",
       "    .dataframe thead th {\n",
       "        text-align: right;\n",
       "    }\n",
       "</style>\n",
       "<table border=\"1\" class=\"dataframe\">\n",
       "  <thead>\n",
       "    <tr style=\"text-align: right;\">\n",
       "      <th></th>\n",
       "      <th>movieId</th>\n",
       "      <th>title</th>\n",
       "      <th>genres</th>\n",
       "      <th>tag</th>\n",
       "      <th>rating_y</th>\n",
       "      <th>0</th>\n",
       "      <th>1</th>\n",
       "      <th>2</th>\n",
       "      <th>3</th>\n",
       "      <th>4</th>\n",
       "      <th>...</th>\n",
       "      <th>190</th>\n",
       "      <th>191</th>\n",
       "      <th>192</th>\n",
       "      <th>193</th>\n",
       "      <th>194</th>\n",
       "      <th>195</th>\n",
       "      <th>196</th>\n",
       "      <th>197</th>\n",
       "      <th>198</th>\n",
       "      <th>199</th>\n",
       "    </tr>\n",
       "  </thead>\n",
       "  <tbody>\n",
       "    <tr>\n",
       "      <td>0</td>\n",
       "      <td>1</td>\n",
       "      <td>Toy Story (1995)</td>\n",
       "      <td>Adventure Animation Children Comedy Fantasy</td>\n",
       "      <td>pixar pixar fun</td>\n",
       "      <td>4.0</td>\n",
       "      <td>0.000000</td>\n",
       "      <td>0.360910</td>\n",
       "      <td>0.543411</td>\n",
       "      <td>0.506312</td>\n",
       "      <td>0.310624</td>\n",
       "      <td>...</td>\n",
       "      <td>-0.003922</td>\n",
       "      <td>-0.005394</td>\n",
       "      <td>0.004074</td>\n",
       "      <td>0.009771</td>\n",
       "      <td>-0.008932</td>\n",
       "      <td>-0.013815</td>\n",
       "      <td>-0.003918</td>\n",
       "      <td>0.015230</td>\n",
       "      <td>0.004673</td>\n",
       "      <td>-0.002139</td>\n",
       "    </tr>\n",
       "    <tr>\n",
       "      <td>1</td>\n",
       "      <td>1</td>\n",
       "      <td>Toy Story (1995)</td>\n",
       "      <td>Adventure Animation Children Comedy Fantasy</td>\n",
       "      <td>pixar pixar fun</td>\n",
       "      <td>4.0</td>\n",
       "      <td>0.000000</td>\n",
       "      <td>0.360910</td>\n",
       "      <td>0.543411</td>\n",
       "      <td>0.506312</td>\n",
       "      <td>0.310624</td>\n",
       "      <td>...</td>\n",
       "      <td>-0.003922</td>\n",
       "      <td>-0.005394</td>\n",
       "      <td>0.004074</td>\n",
       "      <td>0.009771</td>\n",
       "      <td>-0.008932</td>\n",
       "      <td>-0.013815</td>\n",
       "      <td>-0.003918</td>\n",
       "      <td>0.015230</td>\n",
       "      <td>0.004673</td>\n",
       "      <td>-0.002139</td>\n",
       "    </tr>\n",
       "    <tr>\n",
       "      <td>2</td>\n",
       "      <td>1</td>\n",
       "      <td>Toy Story (1995)</td>\n",
       "      <td>Adventure Animation Children Comedy Fantasy</td>\n",
       "      <td>pixar pixar fun</td>\n",
       "      <td>4.0</td>\n",
       "      <td>0.000000</td>\n",
       "      <td>0.360910</td>\n",
       "      <td>0.543411</td>\n",
       "      <td>0.506312</td>\n",
       "      <td>0.310624</td>\n",
       "      <td>...</td>\n",
       "      <td>-0.003922</td>\n",
       "      <td>-0.005394</td>\n",
       "      <td>0.004074</td>\n",
       "      <td>0.009771</td>\n",
       "      <td>-0.008932</td>\n",
       "      <td>-0.013815</td>\n",
       "      <td>-0.003918</td>\n",
       "      <td>0.015230</td>\n",
       "      <td>0.004673</td>\n",
       "      <td>-0.002139</td>\n",
       "    </tr>\n",
       "    <tr>\n",
       "      <td>3</td>\n",
       "      <td>1</td>\n",
       "      <td>Toy Story (1995)</td>\n",
       "      <td>Adventure Animation Children Comedy Fantasy</td>\n",
       "      <td>pixar pixar fun</td>\n",
       "      <td>4.0</td>\n",
       "      <td>0.000000</td>\n",
       "      <td>0.360910</td>\n",
       "      <td>0.543411</td>\n",
       "      <td>0.506312</td>\n",
       "      <td>0.310624</td>\n",
       "      <td>...</td>\n",
       "      <td>-0.003922</td>\n",
       "      <td>-0.005394</td>\n",
       "      <td>0.004074</td>\n",
       "      <td>0.009771</td>\n",
       "      <td>-0.008932</td>\n",
       "      <td>-0.013815</td>\n",
       "      <td>-0.003918</td>\n",
       "      <td>0.015230</td>\n",
       "      <td>0.004673</td>\n",
       "      <td>-0.002139</td>\n",
       "    </tr>\n",
       "    <tr>\n",
       "      <td>4</td>\n",
       "      <td>1</td>\n",
       "      <td>Toy Story (1995)</td>\n",
       "      <td>Adventure Animation Children Comedy Fantasy</td>\n",
       "      <td>pixar pixar fun</td>\n",
       "      <td>4.0</td>\n",
       "      <td>0.000000</td>\n",
       "      <td>0.360910</td>\n",
       "      <td>0.543411</td>\n",
       "      <td>0.506312</td>\n",
       "      <td>0.310624</td>\n",
       "      <td>...</td>\n",
       "      <td>-0.003922</td>\n",
       "      <td>-0.005394</td>\n",
       "      <td>0.004074</td>\n",
       "      <td>0.009771</td>\n",
       "      <td>-0.008932</td>\n",
       "      <td>-0.013815</td>\n",
       "      <td>-0.003918</td>\n",
       "      <td>0.015230</td>\n",
       "      <td>0.004673</td>\n",
       "      <td>-0.002139</td>\n",
       "    </tr>\n",
       "    <tr>\n",
       "      <td>...</td>\n",
       "      <td>...</td>\n",
       "      <td>...</td>\n",
       "      <td>...</td>\n",
       "      <td>...</td>\n",
       "      <td>...</td>\n",
       "      <td>...</td>\n",
       "      <td>...</td>\n",
       "      <td>...</td>\n",
       "      <td>...</td>\n",
       "      <td>...</td>\n",
       "      <td>...</td>\n",
       "      <td>...</td>\n",
       "      <td>...</td>\n",
       "      <td>...</td>\n",
       "      <td>...</td>\n",
       "      <td>...</td>\n",
       "      <td>...</td>\n",
       "      <td>...</td>\n",
       "      <td>...</td>\n",
       "      <td>...</td>\n",
       "      <td>...</td>\n",
       "    </tr>\n",
       "    <tr>\n",
       "      <td>48300</td>\n",
       "      <td>187595</td>\n",
       "      <td>Solo: A Star Wars Story (2018)</td>\n",
       "      <td>Action Adventure Children SciFi</td>\n",
       "      <td>Emilia Clarke star wars</td>\n",
       "      <td>4.0</td>\n",
       "      <td>0.422330</td>\n",
       "      <td>0.439599</td>\n",
       "      <td>0.000000</td>\n",
       "      <td>0.616704</td>\n",
       "      <td>0.000000</td>\n",
       "      <td>...</td>\n",
       "      <td>-0.007515</td>\n",
       "      <td>0.001462</td>\n",
       "      <td>0.012170</td>\n",
       "      <td>-0.010262</td>\n",
       "      <td>0.011146</td>\n",
       "      <td>0.002097</td>\n",
       "      <td>0.002444</td>\n",
       "      <td>0.017540</td>\n",
       "      <td>-0.007262</td>\n",
       "      <td>0.021094</td>\n",
       "    </tr>\n",
       "    <tr>\n",
       "      <td>48301</td>\n",
       "      <td>187595</td>\n",
       "      <td>Solo: A Star Wars Story (2018)</td>\n",
       "      <td>Action Adventure Children SciFi</td>\n",
       "      <td>Emilia Clarke star wars</td>\n",
       "      <td>4.0</td>\n",
       "      <td>0.422330</td>\n",
       "      <td>0.439599</td>\n",
       "      <td>0.000000</td>\n",
       "      <td>0.616704</td>\n",
       "      <td>0.000000</td>\n",
       "      <td>...</td>\n",
       "      <td>-0.007515</td>\n",
       "      <td>0.001462</td>\n",
       "      <td>0.012170</td>\n",
       "      <td>-0.010262</td>\n",
       "      <td>0.011146</td>\n",
       "      <td>0.002097</td>\n",
       "      <td>0.002444</td>\n",
       "      <td>0.017540</td>\n",
       "      <td>-0.007262</td>\n",
       "      <td>0.021094</td>\n",
       "    </tr>\n",
       "    <tr>\n",
       "      <td>48302</td>\n",
       "      <td>187595</td>\n",
       "      <td>Solo: A Star Wars Story (2018)</td>\n",
       "      <td>Action Adventure Children SciFi</td>\n",
       "      <td>Emilia Clarke star wars</td>\n",
       "      <td>4.0</td>\n",
       "      <td>0.422330</td>\n",
       "      <td>0.439599</td>\n",
       "      <td>0.000000</td>\n",
       "      <td>0.616704</td>\n",
       "      <td>0.000000</td>\n",
       "      <td>...</td>\n",
       "      <td>-0.007515</td>\n",
       "      <td>0.001462</td>\n",
       "      <td>0.012170</td>\n",
       "      <td>-0.010262</td>\n",
       "      <td>0.011146</td>\n",
       "      <td>0.002097</td>\n",
       "      <td>0.002444</td>\n",
       "      <td>0.017540</td>\n",
       "      <td>-0.007262</td>\n",
       "      <td>0.021094</td>\n",
       "    </tr>\n",
       "    <tr>\n",
       "      <td>48303</td>\n",
       "      <td>187595</td>\n",
       "      <td>Solo: A Star Wars Story (2018)</td>\n",
       "      <td>Action Adventure Children SciFi</td>\n",
       "      <td>Emilia Clarke star wars</td>\n",
       "      <td>4.0</td>\n",
       "      <td>0.422330</td>\n",
       "      <td>0.439599</td>\n",
       "      <td>0.000000</td>\n",
       "      <td>0.616704</td>\n",
       "      <td>0.000000</td>\n",
       "      <td>...</td>\n",
       "      <td>-0.007515</td>\n",
       "      <td>0.001462</td>\n",
       "      <td>0.012170</td>\n",
       "      <td>-0.010262</td>\n",
       "      <td>0.011146</td>\n",
       "      <td>0.002097</td>\n",
       "      <td>0.002444</td>\n",
       "      <td>0.017540</td>\n",
       "      <td>-0.007262</td>\n",
       "      <td>0.021094</td>\n",
       "    </tr>\n",
       "    <tr>\n",
       "      <td>48304</td>\n",
       "      <td>193565</td>\n",
       "      <td>Gintama: The Movie (2010)</td>\n",
       "      <td>Action Animation Comedy SciFi</td>\n",
       "      <td>anime comedy gintama remaster</td>\n",
       "      <td>3.5</td>\n",
       "      <td>0.420718</td>\n",
       "      <td>0.000000</td>\n",
       "      <td>0.659364</td>\n",
       "      <td>0.000000</td>\n",
       "      <td>0.376905</td>\n",
       "      <td>...</td>\n",
       "      <td>0.001478</td>\n",
       "      <td>0.006795</td>\n",
       "      <td>-0.000814</td>\n",
       "      <td>-0.000837</td>\n",
       "      <td>-0.001630</td>\n",
       "      <td>-0.003482</td>\n",
       "      <td>-0.012650</td>\n",
       "      <td>-0.004539</td>\n",
       "      <td>-0.007390</td>\n",
       "      <td>-0.004580</td>\n",
       "    </tr>\n",
       "  </tbody>\n",
       "</table>\n",
       "<p>48305 rows × 225 columns</p>\n",
       "</div>"
      ],
      "text/plain": [
       "       movieId                           title  \\\n",
       "0            1                Toy Story (1995)   \n",
       "1            1                Toy Story (1995)   \n",
       "2            1                Toy Story (1995)   \n",
       "3            1                Toy Story (1995)   \n",
       "4            1                Toy Story (1995)   \n",
       "...        ...                             ...   \n",
       "48300   187595  Solo: A Star Wars Story (2018)   \n",
       "48301   187595  Solo: A Star Wars Story (2018)   \n",
       "48302   187595  Solo: A Star Wars Story (2018)   \n",
       "48303   187595  Solo: A Star Wars Story (2018)   \n",
       "48304   193565       Gintama: The Movie (2010)   \n",
       "\n",
       "                                            genres  \\\n",
       "0      Adventure Animation Children Comedy Fantasy   \n",
       "1      Adventure Animation Children Comedy Fantasy   \n",
       "2      Adventure Animation Children Comedy Fantasy   \n",
       "3      Adventure Animation Children Comedy Fantasy   \n",
       "4      Adventure Animation Children Comedy Fantasy   \n",
       "...                                            ...   \n",
       "48300              Action Adventure Children SciFi   \n",
       "48301              Action Adventure Children SciFi   \n",
       "48302              Action Adventure Children SciFi   \n",
       "48303              Action Adventure Children SciFi   \n",
       "48304                Action Animation Comedy SciFi   \n",
       "\n",
       "                                 tag  rating_y         0         1         2  \\\n",
       "0                    pixar pixar fun       4.0  0.000000  0.360910  0.543411   \n",
       "1                    pixar pixar fun       4.0  0.000000  0.360910  0.543411   \n",
       "2                    pixar pixar fun       4.0  0.000000  0.360910  0.543411   \n",
       "3                    pixar pixar fun       4.0  0.000000  0.360910  0.543411   \n",
       "4                    pixar pixar fun       4.0  0.000000  0.360910  0.543411   \n",
       "...                              ...       ...       ...       ...       ...   \n",
       "48300        Emilia Clarke star wars       4.0  0.422330  0.439599  0.000000   \n",
       "48301        Emilia Clarke star wars       4.0  0.422330  0.439599  0.000000   \n",
       "48302        Emilia Clarke star wars       4.0  0.422330  0.439599  0.000000   \n",
       "48303        Emilia Clarke star wars       4.0  0.422330  0.439599  0.000000   \n",
       "48304  anime comedy gintama remaster       3.5  0.420718  0.000000  0.659364   \n",
       "\n",
       "              3         4  ...       190       191       192       193  \\\n",
       "0      0.506312  0.310624  ... -0.003922 -0.005394  0.004074  0.009771   \n",
       "1      0.506312  0.310624  ... -0.003922 -0.005394  0.004074  0.009771   \n",
       "2      0.506312  0.310624  ... -0.003922 -0.005394  0.004074  0.009771   \n",
       "3      0.506312  0.310624  ... -0.003922 -0.005394  0.004074  0.009771   \n",
       "4      0.506312  0.310624  ... -0.003922 -0.005394  0.004074  0.009771   \n",
       "...         ...       ...  ...       ...       ...       ...       ...   \n",
       "48300  0.616704  0.000000  ... -0.007515  0.001462  0.012170 -0.010262   \n",
       "48301  0.616704  0.000000  ... -0.007515  0.001462  0.012170 -0.010262   \n",
       "48302  0.616704  0.000000  ... -0.007515  0.001462  0.012170 -0.010262   \n",
       "48303  0.616704  0.000000  ... -0.007515  0.001462  0.012170 -0.010262   \n",
       "48304  0.000000  0.376905  ...  0.001478  0.006795 -0.000814 -0.000837   \n",
       "\n",
       "            194       195       196       197       198       199  \n",
       "0     -0.008932 -0.013815 -0.003918  0.015230  0.004673 -0.002139  \n",
       "1     -0.008932 -0.013815 -0.003918  0.015230  0.004673 -0.002139  \n",
       "2     -0.008932 -0.013815 -0.003918  0.015230  0.004673 -0.002139  \n",
       "3     -0.008932 -0.013815 -0.003918  0.015230  0.004673 -0.002139  \n",
       "4     -0.008932 -0.013815 -0.003918  0.015230  0.004673 -0.002139  \n",
       "...         ...       ...       ...       ...       ...       ...  \n",
       "48300  0.011146  0.002097  0.002444  0.017540 -0.007262  0.021094  \n",
       "48301  0.011146  0.002097  0.002444  0.017540 -0.007262  0.021094  \n",
       "48302  0.011146  0.002097  0.002444  0.017540 -0.007262  0.021094  \n",
       "48303  0.011146  0.002097  0.002444  0.017540 -0.007262  0.021094  \n",
       "48304 -0.001630 -0.003482 -0.012650 -0.004539 -0.007390 -0.004580  \n",
       "\n",
       "[48305 rows x 225 columns]"
      ]
     },
     "execution_count": 35,
     "metadata": {},
     "output_type": "execute_result"
    }
   ],
   "source": [
    "result.dropna(axis = 1)"
   ]
  },
  {
   "cell_type": "code",
   "execution_count": 36,
   "metadata": {},
   "outputs": [],
   "source": [
    "columns_to_exclude = result[['movieId', 'title', 'genres', 'tag', 'userId', 'timestamp', 'rating_x' ]]"
   ]
  },
  {
   "cell_type": "code",
   "execution_count": 37,
   "metadata": {},
   "outputs": [],
   "source": [
    "X = result.drop(columns_to_exclude, axis = 1)\n",
    "y = result['rating_x']"
   ]
  },
  {
   "cell_type": "code",
   "execution_count": 38,
   "metadata": {
    "collapsed": true
   },
   "outputs": [],
   "source": [
    "from sklearn.preprocessing import MinMaxScaler\n",
    "scaler = MinMaxScaler()"
   ]
  },
  {
   "cell_type": "code",
   "execution_count": 39,
   "metadata": {
    "collapsed": true
   },
   "outputs": [],
   "source": [
    "X_scaled = scaler.fit_transform(X)"
   ]
  },
  {
   "cell_type": "code",
   "execution_count": 40,
   "metadata": {
    "collapsed": true
   },
   "outputs": [],
   "source": [
    "from sklearn.model_selection import train_test_split "
   ]
  },
  {
   "cell_type": "code",
   "execution_count": 41,
   "metadata": {},
   "outputs": [
    {
     "name": "stderr",
     "output_type": "stream",
     "text": [
      "/Users/svetlana/miniconda3/lib/python3.7/site-packages/ipykernel_launcher.py:1: SettingWithCopyWarning: \n",
      "A value is trying to be set on a copy of a slice from a DataFrame.\n",
      "Try using .loc[row_indexer,col_indexer] = value instead\n",
      "\n",
      "See the caveats in the documentation: http://pandas.pydata.org/pandas-docs/stable/user_guide/indexing.html#returning-a-view-versus-a-copy\n",
      "  \"\"\"Entry point for launching an IPython kernel.\n",
      "/Users/svetlana/miniconda3/lib/python3.7/site-packages/pandas/core/frame.py:3476: SettingWithCopyWarning: \n",
      "A value is trying to be set on a copy of a slice from a DataFrame\n",
      "\n",
      "See the caveats in the documentation: http://pandas.pydata.org/pandas-docs/stable/user_guide/indexing.html#returning-a-view-versus-a-copy\n",
      "  self.loc._setitem_with_indexer(key, value)\n",
      "/Users/svetlana/miniconda3/lib/python3.7/site-packages/pandas/core/frame.py:3464: SettingWithCopyWarning: \n",
      "A value is trying to be set on a copy of a slice from a DataFrame\n",
      "\n",
      "See the caveats in the documentation: http://pandas.pydata.org/pandas-docs/stable/user_guide/indexing.html#returning-a-view-versus-a-copy\n",
      "  return self._setitem_slice(indexer, value)\n"
     ]
    },
    {
     "data": {
      "text/plain": [
       "rating_y    0\n",
       "0           0\n",
       "1           0\n",
       "2           0\n",
       "3           0\n",
       "           ..\n",
       "195         0\n",
       "196         0\n",
       "197         0\n",
       "198         0\n",
       "199         0\n",
       "Length: 221, dtype: int64"
      ]
     },
     "execution_count": 41,
     "metadata": {},
     "output_type": "execute_result"
    }
   ],
   "source": [
    "X [:] = np.nan_to_num(X)\n",
    "np.isnan(X).sum()"
   ]
  },
  {
   "cell_type": "code",
   "execution_count": 42,
   "metadata": {},
   "outputs": [
    {
     "name": "stderr",
     "output_type": "stream",
     "text": [
      "/Users/svetlana/miniconda3/lib/python3.7/site-packages/pandas/core/series.py:1237: SettingWithCopyWarning: \n",
      "A value is trying to be set on a copy of a slice from a DataFrame\n",
      "\n",
      "See the caveats in the documentation: http://pandas.pydata.org/pandas-docs/stable/user_guide/indexing.html#returning-a-view-versus-a-copy\n",
      "  self._set_with(key, value)\n",
      "/Users/svetlana/miniconda3/lib/python3.7/site-packages/IPython/core/interactiveshell.py:3331: SettingWithCopyWarning: \n",
      "A value is trying to be set on a copy of a slice from a DataFrame\n",
      "\n",
      "See the caveats in the documentation: http://pandas.pydata.org/pandas-docs/stable/user_guide/indexing.html#returning-a-view-versus-a-copy\n",
      "  exec(code_obj, self.user_global_ns, self.user_ns)\n"
     ]
    },
    {
     "data": {
      "text/plain": [
       "0"
      ]
     },
     "execution_count": 42,
     "metadata": {},
     "output_type": "execute_result"
    }
   ],
   "source": [
    "y [:] = np.nan_to_num(y)\n",
    "np.isnan(y).sum()"
   ]
  },
  {
   "cell_type": "code",
   "execution_count": 43,
   "metadata": {
    "collapsed": true
   },
   "outputs": [],
   "source": [
    "X_train, X_test, y_train, y_test = train_test_split(X_scaled, y, test_size=0.3)"
   ]
  },
  {
   "cell_type": "code",
   "execution_count": 44,
   "metadata": {},
   "outputs": [
    {
     "data": {
      "text/plain": [
       "count    33813.000000\n",
       "mean         3.733091\n",
       "std          0.977441\n",
       "min          0.000000\n",
       "25%          3.000000\n",
       "50%          4.000000\n",
       "75%          4.500000\n",
       "max          5.000000\n",
       "Name: rating_x, dtype: float64"
      ]
     },
     "execution_count": 44,
     "metadata": {},
     "output_type": "execute_result"
    }
   ],
   "source": [
    "y_train.describe()"
   ]
  },
  {
   "cell_type": "code",
   "execution_count": 45,
   "metadata": {},
   "outputs": [
    {
     "data": {
      "text/plain": [
       "LinearRegression(copy_X=True, fit_intercept=True, n_jobs=None, normalize=False)"
      ]
     },
     "execution_count": 45,
     "metadata": {},
     "output_type": "execute_result"
    }
   ],
   "source": [
    "model = LinearRegression()  \n",
    "model.fit(X_train, y_train)"
   ]
  },
  {
   "cell_type": "code",
   "execution_count": 46,
   "metadata": {
    "collapsed": true
   },
   "outputs": [],
   "source": [
    "y_pred = model.predict(X_test)"
   ]
  },
  {
   "cell_type": "code",
   "execution_count": 47,
   "metadata": {},
   "outputs": [
    {
     "data": {
      "text/html": [
       "<div>\n",
       "<style scoped>\n",
       "    .dataframe tbody tr th:only-of-type {\n",
       "        vertical-align: middle;\n",
       "    }\n",
       "\n",
       "    .dataframe tbody tr th {\n",
       "        vertical-align: top;\n",
       "    }\n",
       "\n",
       "    .dataframe thead th {\n",
       "        text-align: right;\n",
       "    }\n",
       "</style>\n",
       "<table border=\"1\" class=\"dataframe\">\n",
       "  <thead>\n",
       "    <tr style=\"text-align: right;\">\n",
       "      <th></th>\n",
       "      <th>Actual</th>\n",
       "      <th>Predicted</th>\n",
       "    </tr>\n",
       "  </thead>\n",
       "  <tbody>\n",
       "    <tr>\n",
       "      <td>38668</td>\n",
       "      <td>2.5</td>\n",
       "      <td>3.776845</td>\n",
       "    </tr>\n",
       "    <tr>\n",
       "      <td>9805</td>\n",
       "      <td>3.5</td>\n",
       "      <td>3.751067</td>\n",
       "    </tr>\n",
       "    <tr>\n",
       "      <td>615</td>\n",
       "      <td>3.5</td>\n",
       "      <td>3.969710</td>\n",
       "    </tr>\n",
       "    <tr>\n",
       "      <td>18344</td>\n",
       "      <td>4.0</td>\n",
       "      <td>3.986280</td>\n",
       "    </tr>\n",
       "    <tr>\n",
       "      <td>41481</td>\n",
       "      <td>4.5</td>\n",
       "      <td>3.802001</td>\n",
       "    </tr>\n",
       "  </tbody>\n",
       "</table>\n",
       "</div>"
      ],
      "text/plain": [
       "       Actual  Predicted\n",
       "38668     2.5   3.776845\n",
       "9805      3.5   3.751067\n",
       "615       3.5   3.969710\n",
       "18344     4.0   3.986280\n",
       "41481     4.5   3.802001"
      ]
     },
     "execution_count": 47,
     "metadata": {},
     "output_type": "execute_result"
    }
   ],
   "source": [
    "df = pd.DataFrame({'Actual': y_test, 'Predicted': y_pred})\n",
    "df.head()"
   ]
  },
  {
   "cell_type": "code",
   "execution_count": 48,
   "metadata": {},
   "outputs": [
    {
     "data": {
      "image/png": "[encoded data removed]",
      "text/plain": [
       "<Figure size 1152x720 with 1 Axes>"
      ]
     },
     "metadata": {
      "needs_background": "light"
     },
     "output_type": "display_data"
    }
   ],
   "source": [
    "import matplotlib.pyplot as plt\n",
    "df1 = df.head(25)\n",
    "df1.plot(kind='bar',figsize=(16,10))\n",
    "plt.grid(which='major', linestyle='-', linewidth='0.5', color='green')\n",
    "plt.grid(which='minor', linestyle=':', linewidth='0.5', color='black')\n",
    "plt.show()"
   ]
  },
  {
   "cell_type": "code",
   "execution_count": 49,
   "metadata": {},
   "outputs": [
    {
     "name": "stdout",
     "output_type": "stream",
     "text": [
      "Mean Absolute Error: 0.6760389850735586\n",
      "Mean Squared Error: 0.7858022102180532\n",
      "Root Mean Squared Error: 0.8864548551494618\n"
     ]
    }
   ],
   "source": [
    "from sklearn import metrics\n",
    "from sklearn.metrics import mean_absolute_error, mean_squared_error \n",
    "print('Mean Absolute Error:', metrics.mean_absolute_error(y_test, y_pred))  \n",
    "print('Mean Squared Error:', metrics.mean_squared_error(y_test, y_pred))  \n",
    "print('Root Mean Squared Error:', np.sqrt(metrics.mean_squared_error(y_test, y_pred)))"
   ]
  }
 ],
 "metadata": {
  "kernelspec": {
   "display_name": "Python (other-env)",
   "language": "python",
   "name": "other-env"
  },
  "language_info": {
   "codemirror_mode": {
    "name": "ipython",
    "version": 3
   },
   "file_extension": ".py",
   "mimetype": "text/x-python",
   "name": "python",
   "nbconvert_exporter": "python",
   "pygments_lexer": "ipython3",
   "version": "3.7.1"
  }
 },
 "nbformat": 4,
 "nbformat_minor": 2
}
